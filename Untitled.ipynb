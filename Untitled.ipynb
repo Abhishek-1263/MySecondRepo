{
 "cells": [
  {
   "cell_type": "markdown",
   "id": "df6d7876",
   "metadata": {},
   "source": [
    "# Welcome to Python World"
   ]
  },
  {
   "cell_type": "markdown",
   "id": "bed20cb0",
   "metadata": {},
   "source": [
    "learning python basics"
   ]
  },
  {
   "cell_type": "code",
   "execution_count": 1,
   "id": "0291ae73",
   "metadata": {},
   "outputs": [
    {
     "data": {
      "text/plain": [
       "2"
      ]
     },
     "execution_count": 1,
     "metadata": {},
     "output_type": "execute_result"
    }
   ],
   "source": [
    "1+1"
   ]
  },
  {
   "cell_type": "code",
   "execution_count": 2,
   "id": "2dfddabf",
   "metadata": {},
   "outputs": [
    {
     "data": {
      "text/plain": [
       "1"
      ]
     },
     "execution_count": 2,
     "metadata": {},
     "output_type": "execute_result"
    }
   ],
   "source": [
    "2-1"
   ]
  },
  {
   "cell_type": "code",
   "execution_count": 3,
   "id": "a49e5b33",
   "metadata": {},
   "outputs": [
    {
     "data": {
      "text/plain": [
       "6"
      ]
     },
     "execution_count": 3,
     "metadata": {},
     "output_type": "execute_result"
    }
   ],
   "source": [
    "2*3"
   ]
  },
  {
   "cell_type": "code",
   "execution_count": 4,
   "id": "a86c2aed",
   "metadata": {},
   "outputs": [
    {
     "data": {
      "text/plain": [
       "25"
      ]
     },
     "execution_count": 4,
     "metadata": {},
     "output_type": "execute_result"
    }
   ],
   "source": [
    "5*5"
   ]
  },
  {
   "cell_type": "code",
   "execution_count": 5,
   "id": "307adaa4",
   "metadata": {},
   "outputs": [
    {
     "data": {
      "text/plain": [
       "5.0"
      ]
     },
     "execution_count": 5,
     "metadata": {},
     "output_type": "execute_result"
    }
   ],
   "source": [
    "10/2"
   ]
  },
  {
   "cell_type": "code",
   "execution_count": 6,
   "id": "90399b3a",
   "metadata": {},
   "outputs": [
    {
     "data": {
      "text/plain": [
       "5.0"
      ]
     },
     "execution_count": 6,
     "metadata": {},
     "output_type": "execute_result"
    }
   ],
   "source": [
    "15/3"
   ]
  },
  {
   "cell_type": "code",
   "execution_count": 7,
   "id": "c5555aab",
   "metadata": {},
   "outputs": [
    {
     "data": {
      "text/plain": [
       "0"
      ]
     },
     "execution_count": 7,
     "metadata": {},
     "output_type": "execute_result"
    }
   ],
   "source": [
    "10%2"
   ]
  },
  {
   "cell_type": "code",
   "execution_count": 8,
   "id": "added63e",
   "metadata": {},
   "outputs": [
    {
     "data": {
      "text/plain": [
       "1"
      ]
     },
     "execution_count": 8,
     "metadata": {},
     "output_type": "execute_result"
    }
   ],
   "source": [
    "11%2"
   ]
  },
  {
   "cell_type": "code",
   "execution_count": 9,
   "id": "2d4f91f6",
   "metadata": {},
   "outputs": [
    {
     "data": {
      "text/plain": [
       "0"
      ]
     },
     "execution_count": 9,
     "metadata": {},
     "output_type": "execute_result"
    }
   ],
   "source": [
    "18%3"
   ]
  },
  {
   "cell_type": "code",
   "execution_count": 10,
   "id": "f3afdbef",
   "metadata": {},
   "outputs": [
    {
     "data": {
      "text/plain": [
       "6.0"
      ]
     },
     "execution_count": 10,
     "metadata": {},
     "output_type": "execute_result"
    }
   ],
   "source": [
    "18/3"
   ]
  },
  {
   "cell_type": "markdown",
   "id": "8a46a69b",
   "metadata": {},
   "source": [
    "working with power function"
   ]
  },
  {
   "cell_type": "code",
   "execution_count": 12,
   "id": "b724d29a",
   "metadata": {},
   "outputs": [
    {
     "data": {
      "text/plain": [
       "8"
      ]
     },
     "execution_count": 12,
     "metadata": {},
     "output_type": "execute_result"
    }
   ],
   "source": [
    "2**3"
   ]
  },
  {
   "cell_type": "code",
   "execution_count": 13,
   "id": "989e3667",
   "metadata": {},
   "outputs": [
    {
     "data": {
      "text/plain": [
       "9"
      ]
     },
     "execution_count": 13,
     "metadata": {},
     "output_type": "execute_result"
    }
   ],
   "source": [
    "3**2"
   ]
  },
  {
   "cell_type": "code",
   "execution_count": 14,
   "id": "d58ee7e2",
   "metadata": {},
   "outputs": [
    {
     "data": {
      "text/plain": [
       "16"
      ]
     },
     "execution_count": 14,
     "metadata": {},
     "output_type": "execute_result"
    }
   ],
   "source": [
    "4**2"
   ]
  },
  {
   "cell_type": "code",
   "execution_count": 15,
   "id": "8e08fddc",
   "metadata": {},
   "outputs": [
    {
     "data": {
      "text/plain": [
       "125"
      ]
     },
     "execution_count": 15,
     "metadata": {},
     "output_type": "execute_result"
    }
   ],
   "source": [
    "5**3"
   ]
  },
  {
   "cell_type": "code",
   "execution_count": 16,
   "id": "be1a16d6",
   "metadata": {},
   "outputs": [
    {
     "data": {
      "text/plain": [
       "88817841970012523233890533447265625"
      ]
     },
     "execution_count": 16,
     "metadata": {},
     "output_type": "execute_result"
    }
   ],
   "source": [
    "25**25"
   ]
  },
  {
   "cell_type": "code",
   "execution_count": 17,
   "id": "03abaad5",
   "metadata": {},
   "outputs": [
    {
     "data": {
      "text/plain": [
       "343"
      ]
     },
     "execution_count": 17,
     "metadata": {},
     "output_type": "execute_result"
    }
   ],
   "source": [
    "7**3"
   ]
  },
  {
   "cell_type": "code",
   "execution_count": 18,
   "id": "fea01d61",
   "metadata": {},
   "outputs": [
    {
     "data": {
      "text/plain": [
       "216"
      ]
     },
     "execution_count": 18,
     "metadata": {},
     "output_type": "execute_result"
    }
   ],
   "source": [
    "6**3"
   ]
  },
  {
   "cell_type": "code",
   "execution_count": 19,
   "id": "b8b8a80e",
   "metadata": {},
   "outputs": [
    {
     "data": {
      "text/plain": [
       "6.0"
      ]
     },
     "execution_count": 19,
     "metadata": {},
     "output_type": "execute_result"
    }
   ],
   "source": [
    "#floor division\n",
    "18/3"
   ]
  },
  {
   "cell_type": "code",
   "execution_count": 20,
   "id": "251b95fd",
   "metadata": {},
   "outputs": [
    {
     "data": {
      "text/plain": [
       "3"
      ]
     },
     "execution_count": 20,
     "metadata": {},
     "output_type": "execute_result"
    }
   ],
   "source": [
    "20//6"
   ]
  },
  {
   "cell_type": "code",
   "execution_count": 21,
   "id": "bc058050",
   "metadata": {},
   "outputs": [
    {
     "data": {
      "text/plain": [
       "3"
      ]
     },
     "execution_count": 21,
     "metadata": {},
     "output_type": "execute_result"
    }
   ],
   "source": [
    "20//6"
   ]
  },
  {
   "cell_type": "code",
   "execution_count": 22,
   "id": "359afe90",
   "metadata": {},
   "outputs": [],
   "source": [
    "a=10"
   ]
  },
  {
   "cell_type": "code",
   "execution_count": 23,
   "id": "a61a040a",
   "metadata": {},
   "outputs": [],
   "source": [
    "b=5"
   ]
  },
  {
   "cell_type": "code",
   "execution_count": 24,
   "id": "f30529f3",
   "metadata": {},
   "outputs": [
    {
     "data": {
      "text/plain": [
       "15"
      ]
     },
     "execution_count": 24,
     "metadata": {},
     "output_type": "execute_result"
    }
   ],
   "source": [
    "a+b"
   ]
  },
  {
   "cell_type": "code",
   "execution_count": 25,
   "id": "982cdb56",
   "metadata": {},
   "outputs": [
    {
     "data": {
      "text/plain": [
       "5"
      ]
     },
     "execution_count": 25,
     "metadata": {},
     "output_type": "execute_result"
    }
   ],
   "source": [
    "a-b"
   ]
  },
  {
   "cell_type": "code",
   "execution_count": 26,
   "id": "448f04fc",
   "metadata": {},
   "outputs": [
    {
     "data": {
      "text/plain": [
       "50"
      ]
     },
     "execution_count": 26,
     "metadata": {},
     "output_type": "execute_result"
    }
   ],
   "source": [
    "a*b"
   ]
  },
  {
   "cell_type": "code",
   "execution_count": 27,
   "id": "351ad3ff",
   "metadata": {},
   "outputs": [
    {
     "data": {
      "text/plain": [
       "2.0"
      ]
     },
     "execution_count": 27,
     "metadata": {},
     "output_type": "execute_result"
    }
   ],
   "source": [
    "a/b"
   ]
  },
  {
   "cell_type": "code",
   "execution_count": 28,
   "id": "095d7d4a",
   "metadata": {},
   "outputs": [
    {
     "data": {
      "text/plain": [
       "2"
      ]
     },
     "execution_count": 28,
     "metadata": {},
     "output_type": "execute_result"
    }
   ],
   "source": [
    "a//b"
   ]
  },
  {
   "cell_type": "code",
   "execution_count": 29,
   "id": "73d4fed9",
   "metadata": {},
   "outputs": [],
   "source": [
    "c=a+b"
   ]
  },
  {
   "cell_type": "code",
   "execution_count": 30,
   "id": "0ec22f85",
   "metadata": {},
   "outputs": [
    {
     "data": {
      "text/plain": [
       "15"
      ]
     },
     "execution_count": 30,
     "metadata": {},
     "output_type": "execute_result"
    }
   ],
   "source": [
    "c"
   ]
  },
  {
   "cell_type": "code",
   "execution_count": 31,
   "id": "71fc66e1",
   "metadata": {},
   "outputs": [],
   "source": [
    "d=a-b"
   ]
  },
  {
   "cell_type": "code",
   "execution_count": 32,
   "id": "2b747cfb",
   "metadata": {},
   "outputs": [
    {
     "data": {
      "text/plain": [
       "5"
      ]
     },
     "execution_count": 32,
     "metadata": {},
     "output_type": "execute_result"
    }
   ],
   "source": [
    "d"
   ]
  },
  {
   "cell_type": "code",
   "execution_count": 33,
   "id": "645bece1",
   "metadata": {},
   "outputs": [],
   "source": [
    "e=a*b"
   ]
  },
  {
   "cell_type": "code",
   "execution_count": 37,
   "id": "1f31d1f5",
   "metadata": {},
   "outputs": [
    {
     "name": "stdout",
     "output_type": "stream",
     "text": [
      "50\n"
     ]
    }
   ],
   "source": [
    "print(e)"
   ]
  },
  {
   "cell_type": "code",
   "execution_count": 34,
   "id": "c69f2813",
   "metadata": {},
   "outputs": [
    {
     "data": {
      "text/plain": [
       "50"
      ]
     },
     "execution_count": 34,
     "metadata": {},
     "output_type": "execute_result"
    }
   ],
   "source": [
    "e"
   ]
  },
  {
   "cell_type": "code",
   "execution_count": 35,
   "id": "8663de84",
   "metadata": {},
   "outputs": [
    {
     "name": "stdout",
     "output_type": "stream",
     "text": [
      "hello world\n"
     ]
    }
   ],
   "source": [
    "print(\"hello world\")"
   ]
  },
  {
   "cell_type": "code",
   "execution_count": 36,
   "id": "5996d081",
   "metadata": {},
   "outputs": [
    {
     "name": "stdout",
     "output_type": "stream",
     "text": [
      "hello world\n"
     ]
    }
   ],
   "source": [
    "print('hello world')"
   ]
  },
  {
   "cell_type": "code",
   "execution_count": 38,
   "id": "e4076f57",
   "metadata": {},
   "outputs": [
    {
     "name": "stdout",
     "output_type": "stream",
     "text": [
      "5\n"
     ]
    }
   ],
   "source": [
    "print(d)"
   ]
  },
  {
   "cell_type": "code",
   "execution_count": 39,
   "id": "28c84ba5",
   "metadata": {},
   "outputs": [
    {
     "name": "stdout",
     "output_type": "stream",
     "text": [
      "c= 15\n"
     ]
    }
   ],
   "source": [
    "print(\"c=\",c)"
   ]
  },
  {
   "cell_type": "markdown",
   "id": "2957439b",
   "metadata": {},
   "source": [
    "area of rectangle"
   ]
  },
  {
   "cell_type": "code",
   "execution_count": 46,
   "id": "420e680f",
   "metadata": {},
   "outputs": [
    {
     "name": "stdout",
     "output_type": "stream",
     "text": [
      "area of rectangle 300\n",
      "the area of rectangle with length= 20 and breadth= 15 is: 300\n"
     ]
    }
   ],
   "source": [
    "length=20\n",
    "breadth=15\n",
    "area=length*breadth\n",
    "print(\"area of rectangle\",area)\n",
    "print(\"the area of rectangle with length=\",length,\"and breadth=\",breadth,\"is:\",area)"
   ]
  },
  {
   "cell_type": "code",
   "execution_count": 43,
   "id": "9bae10c4",
   "metadata": {},
   "outputs": [],
   "source": [
    "country=\"france\""
   ]
  },
  {
   "cell_type": "code",
   "execution_count": 44,
   "id": "c98316df",
   "metadata": {},
   "outputs": [
    {
     "name": "stdout",
     "output_type": "stream",
     "text": [
      "france\n"
     ]
    }
   ],
   "source": [
    "print(country)"
   ]
  },
  {
   "cell_type": "code",
   "execution_count": 45,
   "id": "eabd3ce6",
   "metadata": {},
   "outputs": [
    {
     "name": "stdout",
     "output_type": "stream",
     "text": [
      "the name of the country is france\n"
     ]
    }
   ],
   "source": [
    "print(\"the name of the country is\", country)"
   ]
  },
  {
   "cell_type": "code",
   "execution_count": 47,
   "id": "d11c8ff6",
   "metadata": {},
   "outputs": [
    {
     "data": {
      "text/plain": [
       "12"
      ]
     },
     "execution_count": 47,
     "metadata": {},
     "output_type": "execute_result"
    }
   ],
   "source": [
    "6+6"
   ]
  },
  {
   "cell_type": "markdown",
   "id": "9605f5df",
   "metadata": {},
   "source": [
    "string concatenation"
   ]
  },
  {
   "cell_type": "code",
   "execution_count": 48,
   "id": "52151550",
   "metadata": {},
   "outputs": [
    {
     "data": {
      "text/plain": [
       "'66'"
      ]
     },
     "execution_count": 48,
     "metadata": {},
     "output_type": "execute_result"
    }
   ],
   "source": [
    "'6'+'6'"
   ]
  },
  {
   "cell_type": "code",
   "execution_count": 49,
   "id": "25a46cc2",
   "metadata": {},
   "outputs": [
    {
     "data": {
      "text/plain": [
       "'hellopython'"
      ]
     },
     "execution_count": 49,
     "metadata": {},
     "output_type": "execute_result"
    }
   ],
   "source": [
    "'hello'+'python'"
   ]
  },
  {
   "cell_type": "code",
   "execution_count": 50,
   "id": "eca55783",
   "metadata": {},
   "outputs": [
    {
     "data": {
      "text/plain": [
       "'unitedstates'"
      ]
     },
     "execution_count": 50,
     "metadata": {},
     "output_type": "execute_result"
    }
   ],
   "source": [
    "\"united\"+\"states\""
   ]
  },
  {
   "cell_type": "code",
   "execution_count": 51,
   "id": "796faa62",
   "metadata": {},
   "outputs": [
    {
     "data": {
      "text/plain": [
       "'elon musk'"
      ]
     },
     "execution_count": 51,
     "metadata": {},
     "output_type": "execute_result"
    }
   ],
   "source": [
    "'elon '+'musk'"
   ]
  },
  {
   "cell_type": "markdown",
   "id": "c321fb33",
   "metadata": {},
   "source": [
    "boolean commands"
   ]
  },
  {
   "cell_type": "code",
   "execution_count": 52,
   "id": "8efcca51",
   "metadata": {},
   "outputs": [
    {
     "data": {
      "text/plain": [
       "True"
      ]
     },
     "execution_count": 52,
     "metadata": {},
     "output_type": "execute_result"
    }
   ],
   "source": [
    "50==50"
   ]
  },
  {
   "cell_type": "code",
   "execution_count": 53,
   "id": "485ae4bf",
   "metadata": {},
   "outputs": [
    {
     "data": {
      "text/plain": [
       "True"
      ]
     },
     "execution_count": 53,
     "metadata": {},
     "output_type": "execute_result"
    }
   ],
   "source": [
    "40>30"
   ]
  },
  {
   "cell_type": "code",
   "execution_count": 54,
   "id": "92ee391b",
   "metadata": {},
   "outputs": [
    {
     "data": {
      "text/plain": [
       "False"
      ]
     },
     "execution_count": 54,
     "metadata": {},
     "output_type": "execute_result"
    }
   ],
   "source": [
    "30!=30"
   ]
  },
  {
   "cell_type": "code",
   "execution_count": 55,
   "id": "35a5139a",
   "metadata": {},
   "outputs": [
    {
     "data": {
      "text/plain": [
       "False"
      ]
     },
     "execution_count": 55,
     "metadata": {},
     "output_type": "execute_result"
    }
   ],
   "source": [
    "35<10"
   ]
  },
  {
   "cell_type": "code",
   "execution_count": 56,
   "id": "d3c56573",
   "metadata": {},
   "outputs": [
    {
     "data": {
      "text/plain": [
       "False"
      ]
     },
     "execution_count": 56,
     "metadata": {},
     "output_type": "execute_result"
    }
   ],
   "source": [
    "33>90"
   ]
  },
  {
   "cell_type": "code",
   "execution_count": 57,
   "id": "c46e6d3f",
   "metadata": {},
   "outputs": [
    {
     "data": {
      "text/plain": [
       "True"
      ]
     },
     "execution_count": 57,
     "metadata": {},
     "output_type": "execute_result"
    }
   ],
   "source": [
    "52!=100"
   ]
  },
  {
   "cell_type": "code",
   "execution_count": 58,
   "id": "d0d145e7",
   "metadata": {},
   "outputs": [
    {
     "data": {
      "text/plain": [
       "True"
      ]
     },
     "execution_count": 58,
     "metadata": {},
     "output_type": "execute_result"
    }
   ],
   "source": [
    "100==100"
   ]
  },
  {
   "cell_type": "code",
   "execution_count": 60,
   "id": "6cf8149a",
   "metadata": {},
   "outputs": [],
   "source": [
    "x=10"
   ]
  },
  {
   "cell_type": "code",
   "execution_count": 61,
   "id": "9ee93116",
   "metadata": {},
   "outputs": [],
   "source": [
    "y=20"
   ]
  },
  {
   "cell_type": "code",
   "execution_count": 62,
   "id": "f29b339c",
   "metadata": {},
   "outputs": [
    {
     "data": {
      "text/plain": [
       "True"
      ]
     },
     "execution_count": 62,
     "metadata": {},
     "output_type": "execute_result"
    }
   ],
   "source": [
    "y>x"
   ]
  },
  {
   "cell_type": "code",
   "execution_count": 63,
   "id": "d72dbe6b",
   "metadata": {},
   "outputs": [
    {
     "data": {
      "text/plain": [
       "False"
      ]
     },
     "execution_count": 63,
     "metadata": {},
     "output_type": "execute_result"
    }
   ],
   "source": [
    "y<x"
   ]
  },
  {
   "cell_type": "code",
   "execution_count": 64,
   "id": "1f302dc8",
   "metadata": {},
   "outputs": [
    {
     "data": {
      "text/plain": [
       "False"
      ]
     },
     "execution_count": 64,
     "metadata": {},
     "output_type": "execute_result"
    }
   ],
   "source": [
    "y==x"
   ]
  },
  {
   "cell_type": "code",
   "execution_count": 65,
   "id": "e56dac9e",
   "metadata": {},
   "outputs": [
    {
     "data": {
      "text/plain": [
       "True"
      ]
     },
     "execution_count": 65,
     "metadata": {},
     "output_type": "execute_result"
    }
   ],
   "source": [
    "y!=x"
   ]
  },
  {
   "cell_type": "code",
   "execution_count": 66,
   "id": "907ef90d",
   "metadata": {},
   "outputs": [
    {
     "data": {
      "text/plain": [
       "int"
      ]
     },
     "execution_count": 66,
     "metadata": {},
     "output_type": "execute_result"
    }
   ],
   "source": [
    "type(10)"
   ]
  },
  {
   "cell_type": "code",
   "execution_count": 67,
   "id": "b13cec0f",
   "metadata": {},
   "outputs": [
    {
     "data": {
      "text/plain": [
       "float"
      ]
     },
     "execution_count": 67,
     "metadata": {},
     "output_type": "execute_result"
    }
   ],
   "source": [
    "type(3.4)"
   ]
  },
  {
   "cell_type": "code",
   "execution_count": 68,
   "id": "ac3d8f1b",
   "metadata": {},
   "outputs": [
    {
     "data": {
      "text/plain": [
       "float"
      ]
     },
     "execution_count": 68,
     "metadata": {},
     "output_type": "execute_result"
    }
   ],
   "source": [
    "type(34.78)"
   ]
  },
  {
   "cell_type": "code",
   "execution_count": 71,
   "id": "caae88c7",
   "metadata": {},
   "outputs": [
    {
     "data": {
      "text/plain": [
       "str"
      ]
     },
     "execution_count": 71,
     "metadata": {},
     "output_type": "execute_result"
    }
   ],
   "source": [
    "type('india')"
   ]
  },
  {
   "cell_type": "raw",
   "id": "65e41b00",
   "metadata": {},
   "source": [
    "p=30"
   ]
  },
  {
   "cell_type": "code",
   "execution_count": 73,
   "id": "4d6924ba",
   "metadata": {},
   "outputs": [
    {
     "data": {
      "text/plain": [
       "str"
      ]
     },
     "execution_count": 73,
     "metadata": {},
     "output_type": "execute_result"
    }
   ],
   "source": [
    "type('p')"
   ]
  },
  {
   "cell_type": "code",
   "execution_count": 74,
   "id": "39130b76",
   "metadata": {},
   "outputs": [],
   "source": [
    "p=30"
   ]
  },
  {
   "cell_type": "code",
   "execution_count": 75,
   "id": "a5ec277a",
   "metadata": {},
   "outputs": [
    {
     "data": {
      "text/plain": [
       "int"
      ]
     },
     "execution_count": 75,
     "metadata": {},
     "output_type": "execute_result"
    }
   ],
   "source": [
    "type(p)"
   ]
  },
  {
   "cell_type": "markdown",
   "id": "2bd0b264",
   "metadata": {},
   "source": [
    "typecasting"
   ]
  },
  {
   "cell_type": "code",
   "execution_count": 76,
   "id": "eee27306",
   "metadata": {},
   "outputs": [
    {
     "data": {
      "text/plain": [
       "30.0"
      ]
     },
     "execution_count": 76,
     "metadata": {},
     "output_type": "execute_result"
    }
   ],
   "source": [
    "float(p)"
   ]
  },
  {
   "cell_type": "code",
   "execution_count": 77,
   "id": "a72e426b",
   "metadata": {},
   "outputs": [
    {
     "data": {
      "text/plain": [
       "78.0"
      ]
     },
     "execution_count": 77,
     "metadata": {},
     "output_type": "execute_result"
    }
   ],
   "source": [
    "float(78)"
   ]
  },
  {
   "cell_type": "code",
   "execution_count": 78,
   "id": "f3876585",
   "metadata": {},
   "outputs": [
    {
     "data": {
      "text/plain": [
       "57"
      ]
     },
     "execution_count": 78,
     "metadata": {},
     "output_type": "execute_result"
    }
   ],
   "source": [
    "int(57.22)"
   ]
  },
  {
   "cell_type": "code",
   "execution_count": 79,
   "id": "4a51da86",
   "metadata": {},
   "outputs": [
    {
     "data": {
      "text/plain": [
       "29"
      ]
     },
     "execution_count": 79,
     "metadata": {},
     "output_type": "execute_result"
    }
   ],
   "source": [
    "int(29.56)"
   ]
  },
  {
   "cell_type": "code",
   "execution_count": 80,
   "id": "9ebeb570",
   "metadata": {},
   "outputs": [
    {
     "data": {
      "text/plain": [
       "88.0"
      ]
     },
     "execution_count": 80,
     "metadata": {},
     "output_type": "execute_result"
    }
   ],
   "source": [
    "float(88)"
   ]
  },
  {
   "cell_type": "code",
   "execution_count": 81,
   "id": "f69cea22",
   "metadata": {},
   "outputs": [
    {
     "data": {
      "text/plain": [
       "str"
      ]
     },
     "execution_count": 81,
     "metadata": {},
     "output_type": "execute_result"
    }
   ],
   "source": [
    "type('55')"
   ]
  },
  {
   "cell_type": "code",
   "execution_count": 82,
   "id": "7b10f19c",
   "metadata": {},
   "outputs": [
    {
     "data": {
      "text/plain": [
       "55"
      ]
     },
     "execution_count": 82,
     "metadata": {},
     "output_type": "execute_result"
    }
   ],
   "source": [
    "int('55')"
   ]
  },
  {
   "cell_type": "code",
   "execution_count": 83,
   "id": "25ce9bd1",
   "metadata": {},
   "outputs": [],
   "source": [
    "j=45"
   ]
  },
  {
   "cell_type": "code",
   "execution_count": 84,
   "id": "06c1d275",
   "metadata": {},
   "outputs": [
    {
     "data": {
      "text/plain": [
       "int"
      ]
     },
     "execution_count": 84,
     "metadata": {},
     "output_type": "execute_result"
    }
   ],
   "source": [
    "type(j)"
   ]
  },
  {
   "cell_type": "code",
   "execution_count": 85,
   "id": "e06c2d42",
   "metadata": {},
   "outputs": [],
   "source": [
    "h=float(j)"
   ]
  },
  {
   "cell_type": "code",
   "execution_count": 86,
   "id": "8cd90e30",
   "metadata": {},
   "outputs": [
    {
     "data": {
      "text/plain": [
       "45.0"
      ]
     },
     "execution_count": 86,
     "metadata": {},
     "output_type": "execute_result"
    }
   ],
   "source": [
    "h"
   ]
  },
  {
   "cell_type": "code",
   "execution_count": 87,
   "id": "437c1b69",
   "metadata": {},
   "outputs": [
    {
     "data": {
      "text/plain": [
       "float"
      ]
     },
     "execution_count": 87,
     "metadata": {},
     "output_type": "execute_result"
    }
   ],
   "source": [
    "type(h)"
   ]
  },
  {
   "cell_type": "markdown",
   "id": "0fbeb7e4",
   "metadata": {},
   "source": [
    "user input"
   ]
  },
  {
   "cell_type": "code",
   "execution_count": 90,
   "id": "b1a9cc84",
   "metadata": {},
   "outputs": [
    {
     "ename": "KeyboardInterrupt",
     "evalue": "Interrupted by user",
     "output_type": "error",
     "traceback": [
      "\u001b[1;31m---------------------------------------------------------------------------\u001b[0m",
      "\u001b[1;31mKeyboardInterrupt\u001b[0m                         Traceback (most recent call last)",
      "Input \u001b[1;32mIn [90]\u001b[0m, in \u001b[0;36m<cell line: 1>\u001b[1;34m()\u001b[0m\n\u001b[1;32m----> 1\u001b[0m city\u001b[38;5;241m=\u001b[39m\u001b[38;5;28;43minput\u001b[39;49m\u001b[43m(\u001b[49m\u001b[38;5;124;43m\"\u001b[39;49m\u001b[38;5;124;43menter any city name\u001b[39;49m\u001b[38;5;124;43m\"\u001b[39;49m\u001b[43m)\u001b[49m\n\u001b[0;32m      2\u001b[0m city\n",
      "File \u001b[1;32mC:\\ProgramData\\Anaconda3\\lib\\site-packages\\ipykernel\\kernelbase.py:1075\u001b[0m, in \u001b[0;36mKernel.raw_input\u001b[1;34m(self, prompt)\u001b[0m\n\u001b[0;32m   1071\u001b[0m \u001b[38;5;28;01mif\u001b[39;00m \u001b[38;5;129;01mnot\u001b[39;00m \u001b[38;5;28mself\u001b[39m\u001b[38;5;241m.\u001b[39m_allow_stdin:\n\u001b[0;32m   1072\u001b[0m     \u001b[38;5;28;01mraise\u001b[39;00m StdinNotImplementedError(\n\u001b[0;32m   1073\u001b[0m         \u001b[38;5;124m\"\u001b[39m\u001b[38;5;124mraw_input was called, but this frontend does not support input requests.\u001b[39m\u001b[38;5;124m\"\u001b[39m\n\u001b[0;32m   1074\u001b[0m     )\n\u001b[1;32m-> 1075\u001b[0m \u001b[38;5;28;01mreturn\u001b[39;00m \u001b[38;5;28;43mself\u001b[39;49m\u001b[38;5;241;43m.\u001b[39;49m\u001b[43m_input_request\u001b[49m\u001b[43m(\u001b[49m\n\u001b[0;32m   1076\u001b[0m \u001b[43m    \u001b[49m\u001b[38;5;28;43mstr\u001b[39;49m\u001b[43m(\u001b[49m\u001b[43mprompt\u001b[49m\u001b[43m)\u001b[49m\u001b[43m,\u001b[49m\n\u001b[0;32m   1077\u001b[0m \u001b[43m    \u001b[49m\u001b[38;5;28;43mself\u001b[39;49m\u001b[38;5;241;43m.\u001b[39;49m\u001b[43m_parent_ident\u001b[49m\u001b[43m[\u001b[49m\u001b[38;5;124;43m\"\u001b[39;49m\u001b[38;5;124;43mshell\u001b[39;49m\u001b[38;5;124;43m\"\u001b[39;49m\u001b[43m]\u001b[49m\u001b[43m,\u001b[49m\n\u001b[0;32m   1078\u001b[0m \u001b[43m    \u001b[49m\u001b[38;5;28;43mself\u001b[39;49m\u001b[38;5;241;43m.\u001b[39;49m\u001b[43mget_parent\u001b[49m\u001b[43m(\u001b[49m\u001b[38;5;124;43m\"\u001b[39;49m\u001b[38;5;124;43mshell\u001b[39;49m\u001b[38;5;124;43m\"\u001b[39;49m\u001b[43m)\u001b[49m\u001b[43m,\u001b[49m\n\u001b[0;32m   1079\u001b[0m \u001b[43m    \u001b[49m\u001b[43mpassword\u001b[49m\u001b[38;5;241;43m=\u001b[39;49m\u001b[38;5;28;43;01mFalse\u001b[39;49;00m\u001b[43m,\u001b[49m\n\u001b[0;32m   1080\u001b[0m \u001b[43m\u001b[49m\u001b[43m)\u001b[49m\n",
      "File \u001b[1;32mC:\\ProgramData\\Anaconda3\\lib\\site-packages\\ipykernel\\kernelbase.py:1120\u001b[0m, in \u001b[0;36mKernel._input_request\u001b[1;34m(self, prompt, ident, parent, password)\u001b[0m\n\u001b[0;32m   1117\u001b[0m             \u001b[38;5;28;01mbreak\u001b[39;00m\n\u001b[0;32m   1118\u001b[0m \u001b[38;5;28;01mexcept\u001b[39;00m \u001b[38;5;167;01mKeyboardInterrupt\u001b[39;00m:\n\u001b[0;32m   1119\u001b[0m     \u001b[38;5;66;03m# re-raise KeyboardInterrupt, to truncate traceback\u001b[39;00m\n\u001b[1;32m-> 1120\u001b[0m     \u001b[38;5;28;01mraise\u001b[39;00m \u001b[38;5;167;01mKeyboardInterrupt\u001b[39;00m(\u001b[38;5;124m\"\u001b[39m\u001b[38;5;124mInterrupted by user\u001b[39m\u001b[38;5;124m\"\u001b[39m) \u001b[38;5;28;01mfrom\u001b[39;00m \u001b[38;5;28mNone\u001b[39m\n\u001b[0;32m   1121\u001b[0m \u001b[38;5;28;01mexcept\u001b[39;00m \u001b[38;5;167;01mException\u001b[39;00m:\n\u001b[0;32m   1122\u001b[0m     \u001b[38;5;28mself\u001b[39m\u001b[38;5;241m.\u001b[39mlog\u001b[38;5;241m.\u001b[39mwarning(\u001b[38;5;124m\"\u001b[39m\u001b[38;5;124mInvalid Message:\u001b[39m\u001b[38;5;124m\"\u001b[39m, exc_info\u001b[38;5;241m=\u001b[39m\u001b[38;5;28;01mTrue\u001b[39;00m)\n",
      "\u001b[1;31mKeyboardInterrupt\u001b[0m: Interrupted by user"
     ]
    }
   ],
   "source": [
    "city=input(\"enter any city name\")\n",
    "city"
   ]
  },
  {
   "cell_type": "code",
   "execution_count": 106,
   "id": "e7fef1e5",
   "metadata": {},
   "outputs": [
    {
     "name": "stdout",
     "output_type": "stream",
     "text": [
      "enter any food nameapple\n",
      "apple\n"
     ]
    },
    {
     "data": {
      "text/plain": [
       "5"
      ]
     },
     "execution_count": 106,
     "metadata": {},
     "output_type": "execute_result"
    }
   ],
   "source": [
    "food=input(\"enter any food name\")\n",
    "print(food)\n",
    "len(food)"
   ]
  },
  {
   "cell_type": "code",
   "execution_count": null,
   "id": "6afb786a",
   "metadata": {},
   "outputs": [],
   "source": [
    "len(\"delhi\")"
   ]
  },
  {
   "cell_type": "code",
   "execution_count": 102,
   "id": "456cfc2f",
   "metadata": {},
   "outputs": [
    {
     "data": {
      "text/plain": [
       "8"
      ]
     },
     "execution_count": 102,
     "metadata": {},
     "output_type": "execute_result"
    }
   ],
   "source": [
    "len('anacondA')"
   ]
  },
  {
   "cell_type": "code",
   "execution_count": 103,
   "id": "36858af1",
   "metadata": {},
   "outputs": [
    {
     "data": {
      "text/plain": [
       "6"
      ]
     },
     "execution_count": 103,
     "metadata": {},
     "output_type": "execute_result"
    }
   ],
   "source": [
    "len('russia')"
   ]
  },
  {
   "cell_type": "code",
   "execution_count": 96,
   "id": "76cbf353",
   "metadata": {},
   "outputs": [],
   "source": [
    "mobile=\"apple\""
   ]
  },
  {
   "cell_type": "code",
   "execution_count": 97,
   "id": "88690d78",
   "metadata": {},
   "outputs": [
    {
     "data": {
      "text/plain": [
       "5"
      ]
     },
     "execution_count": 97,
     "metadata": {},
     "output_type": "execute_result"
    }
   ],
   "source": [
    "len('apple')"
   ]
  },
  {
   "cell_type": "code",
   "execution_count": 98,
   "id": "236cd1a5",
   "metadata": {},
   "outputs": [
    {
     "data": {
      "text/plain": [
       "6"
      ]
     },
     "execution_count": 98,
     "metadata": {},
     "output_type": "execute_result"
    }
   ],
   "source": [
    "len('mobile')"
   ]
  },
  {
   "cell_type": "code",
   "execution_count": 99,
   "id": "27076516",
   "metadata": {},
   "outputs": [
    {
     "data": {
      "text/plain": [
       "5"
      ]
     },
     "execution_count": 99,
     "metadata": {},
     "output_type": "execute_result"
    }
   ],
   "source": [
    "len(mobile)"
   ]
  },
  {
   "cell_type": "code",
   "execution_count": 107,
   "id": "ec148bea",
   "metadata": {},
   "outputs": [
    {
     "name": "stdout",
     "output_type": "stream",
     "text": [
      "enter any company nametesla\n",
      "tesla\n"
     ]
    },
    {
     "data": {
      "text/plain": [
       "5"
      ]
     },
     "execution_count": 107,
     "metadata": {},
     "output_type": "execute_result"
    }
   ],
   "source": [
    "company=input(\"enter any company name\")\n",
    "print(company)\n",
    "len(company)\n"
   ]
  },
  {
   "cell_type": "code",
   "execution_count": 111,
   "id": "10d5f7ef",
   "metadata": {},
   "outputs": [
    {
     "name": "stdout",
     "output_type": "stream",
     "text": [
      "enter any value80\n",
      "80\n"
     ]
    },
    {
     "data": {
      "text/plain": [
       "int"
      ]
     },
     "execution_count": 111,
     "metadata": {},
     "output_type": "execute_result"
    }
   ],
   "source": [
    "x=int(input(\"enter any value\"))\n",
    "print(x)\n",
    "type(x)"
   ]
  },
  {
   "cell_type": "code",
   "execution_count": 113,
   "id": "e35b0326",
   "metadata": {},
   "outputs": [
    {
     "name": "stdout",
     "output_type": "stream",
     "text": [
      "enter any value10\n",
      "10\n"
     ]
    },
    {
     "data": {
      "text/plain": [
       "int"
      ]
     },
     "execution_count": 113,
     "metadata": {},
     "output_type": "execute_result"
    }
   ],
   "source": [
    "y=int(input(\"enter any value\"))\n",
    "print(y)\n",
    "type(y)"
   ]
  },
  {
   "cell_type": "code",
   "execution_count": 114,
   "id": "6e934635",
   "metadata": {},
   "outputs": [
    {
     "data": {
      "text/plain": [
       "90"
      ]
     },
     "execution_count": 114,
     "metadata": {},
     "output_type": "execute_result"
    }
   ],
   "source": [
    "x+y"
   ]
  },
  {
   "cell_type": "markdown",
   "id": "abd74625",
   "metadata": {},
   "source": [
    "# Data Structures"
   ]
  },
  {
   "cell_type": "markdown",
   "id": "5977385c",
   "metadata": {},
   "source": [
    "List"
   ]
  },
  {
   "cell_type": "code",
   "execution_count": 115,
   "id": "dc58160c",
   "metadata": {},
   "outputs": [],
   "source": [
    "list1=[]"
   ]
  },
  {
   "cell_type": "code",
   "execution_count": 116,
   "id": "3d06c0e5",
   "metadata": {},
   "outputs": [
    {
     "data": {
      "text/plain": [
       "[]"
      ]
     },
     "execution_count": 116,
     "metadata": {},
     "output_type": "execute_result"
    }
   ],
   "source": [
    "list1"
   ]
  },
  {
   "cell_type": "code",
   "execution_count": 117,
   "id": "01aaaa17",
   "metadata": {},
   "outputs": [],
   "source": [
    "list2=[1,2,3,4,5]"
   ]
  },
  {
   "cell_type": "code",
   "execution_count": 118,
   "id": "1660cb56",
   "metadata": {},
   "outputs": [
    {
     "data": {
      "text/plain": [
       "[1, 2, 3, 4, 5]"
      ]
     },
     "execution_count": 118,
     "metadata": {},
     "output_type": "execute_result"
    }
   ],
   "source": [
    "list2"
   ]
  },
  {
   "cell_type": "code",
   "execution_count": 119,
   "id": "3fa870a0",
   "metadata": {},
   "outputs": [],
   "source": [
    "list3=[11,12,13,14]"
   ]
  },
  {
   "cell_type": "code",
   "execution_count": 120,
   "id": "db347651",
   "metadata": {},
   "outputs": [
    {
     "data": {
      "text/plain": [
       "[11, 12, 13, 14]"
      ]
     },
     "execution_count": 120,
     "metadata": {},
     "output_type": "execute_result"
    }
   ],
   "source": [
    "list3"
   ]
  },
  {
   "cell_type": "code",
   "execution_count": 121,
   "id": "972bb13c",
   "metadata": {},
   "outputs": [],
   "source": [
    "list4=[100,200,300,400,500]"
   ]
  },
  {
   "cell_type": "code",
   "execution_count": 123,
   "id": "a792ac3d",
   "metadata": {},
   "outputs": [
    {
     "data": {
      "text/plain": [
       "[100, 200, 300, 400, 500]"
      ]
     },
     "execution_count": 123,
     "metadata": {},
     "output_type": "execute_result"
    }
   ],
   "source": [
    "list4"
   ]
  },
  {
   "cell_type": "code",
   "execution_count": 124,
   "id": "9913abc2",
   "metadata": {},
   "outputs": [],
   "source": [
    "list5=[12.5,13.5,14.5,15.5]"
   ]
  },
  {
   "cell_type": "code",
   "execution_count": 125,
   "id": "6a266f29",
   "metadata": {},
   "outputs": [
    {
     "data": {
      "text/plain": [
       "[12.5, 13.5, 14.5, 15.5]"
      ]
     },
     "execution_count": 125,
     "metadata": {},
     "output_type": "execute_result"
    }
   ],
   "source": [
    "list5"
   ]
  },
  {
   "cell_type": "code",
   "execution_count": 126,
   "id": "19e58def",
   "metadata": {},
   "outputs": [],
   "source": [
    "list6=['a','b','c','d']"
   ]
  },
  {
   "cell_type": "code",
   "execution_count": 127,
   "id": "c6f79c52",
   "metadata": {},
   "outputs": [
    {
     "data": {
      "text/plain": [
       "['a', 'b', 'c', 'd']"
      ]
     },
     "execution_count": 127,
     "metadata": {},
     "output_type": "execute_result"
    }
   ],
   "source": [
    "list6"
   ]
  },
  {
   "cell_type": "code",
   "execution_count": 128,
   "id": "8f0bc24a",
   "metadata": {},
   "outputs": [],
   "source": [
    "list7=['burger','pizza','momos','coke','icecream']"
   ]
  },
  {
   "cell_type": "code",
   "execution_count": 129,
   "id": "91fffe15",
   "metadata": {},
   "outputs": [
    {
     "data": {
      "text/plain": [
       "['burger', 'pizza', 'momos', 'coke', 'icecream']"
      ]
     },
     "execution_count": 129,
     "metadata": {},
     "output_type": "execute_result"
    }
   ],
   "source": [
    "list7"
   ]
  },
  {
   "cell_type": "code",
   "execution_count": 131,
   "id": "2a50f721",
   "metadata": {},
   "outputs": [],
   "source": [
    "list8=[55,89.34,'matrix','B',62,True]"
   ]
  },
  {
   "cell_type": "code",
   "execution_count": 132,
   "id": "e82980f0",
   "metadata": {},
   "outputs": [
    {
     "data": {
      "text/plain": [
       "[55, 89.34, 'matrix', 'B', 62, True]"
      ]
     },
     "execution_count": 132,
     "metadata": {},
     "output_type": "execute_result"
    }
   ],
   "source": [
    "list8"
   ]
  },
  {
   "cell_type": "code",
   "execution_count": 133,
   "id": "e00427b7",
   "metadata": {},
   "outputs": [
    {
     "data": {
      "text/plain": [
       "list"
      ]
     },
     "execution_count": 133,
     "metadata": {},
     "output_type": "execute_result"
    }
   ],
   "source": [
    "type(list6)"
   ]
  },
  {
   "cell_type": "code",
   "execution_count": 134,
   "id": "5c64f460",
   "metadata": {},
   "outputs": [
    {
     "data": {
      "text/plain": [
       "4"
      ]
     },
     "execution_count": 134,
     "metadata": {},
     "output_type": "execute_result"
    }
   ],
   "source": [
    "len(list6)"
   ]
  },
  {
   "cell_type": "code",
   "execution_count": 135,
   "id": "ffb2e951",
   "metadata": {},
   "outputs": [
    {
     "data": {
      "text/plain": [
       "6"
      ]
     },
     "execution_count": 135,
     "metadata": {},
     "output_type": "execute_result"
    }
   ],
   "source": [
    "len(list8)"
   ]
  },
  {
   "cell_type": "code",
   "execution_count": 136,
   "id": "f4e0c00c",
   "metadata": {},
   "outputs": [],
   "source": [
    "j=list7"
   ]
  },
  {
   "cell_type": "code",
   "execution_count": 137,
   "id": "de83d81f",
   "metadata": {},
   "outputs": [
    {
     "data": {
      "text/plain": [
       "['burger', 'pizza', 'momos', 'coke', 'icecream']"
      ]
     },
     "execution_count": 137,
     "metadata": {},
     "output_type": "execute_result"
    }
   ],
   "source": [
    "j"
   ]
  },
  {
   "cell_type": "code",
   "execution_count": 138,
   "id": "0366acb6",
   "metadata": {},
   "outputs": [
    {
     "name": "stdout",
     "output_type": "stream",
     "text": [
      "['burger', 'pizza', 'momos', 'coke', 'icecream']\n"
     ]
    }
   ],
   "source": [
    "print(j)"
   ]
  },
  {
   "cell_type": "code",
   "execution_count": 142,
   "id": "47a345b2",
   "metadata": {},
   "outputs": [
    {
     "name": "stdout",
     "output_type": "stream",
     "text": [
      "[100, 200, 300, 400, 500]\n"
     ]
    }
   ],
   "source": [
    "print(list4)"
   ]
  },
  {
   "cell_type": "code",
   "execution_count": 143,
   "id": "ad03221d",
   "metadata": {},
   "outputs": [
    {
     "name": "stdout",
     "output_type": "stream",
     "text": [
      "[12.5, 13.5, 14.5, 15.5]\n"
     ]
    }
   ],
   "source": [
    "print(list5)"
   ]
  },
  {
   "cell_type": "markdown",
   "id": "09f45eab",
   "metadata": {},
   "source": [
    "Indexing and slicing inside list"
   ]
  },
  {
   "cell_type": "code",
   "execution_count": 145,
   "id": "7aa563e1",
   "metadata": {},
   "outputs": [
    {
     "data": {
      "text/plain": [
       "[11, 12, 13, 14]"
      ]
     },
     "execution_count": 145,
     "metadata": {},
     "output_type": "execute_result"
    }
   ],
   "source": [
    "list3"
   ]
  },
  {
   "cell_type": "code",
   "execution_count": 146,
   "id": "c71e53e7",
   "metadata": {},
   "outputs": [
    {
     "data": {
      "text/plain": [
       "11"
      ]
     },
     "execution_count": 146,
     "metadata": {},
     "output_type": "execute_result"
    }
   ],
   "source": [
    "list3[0]"
   ]
  },
  {
   "cell_type": "code",
   "execution_count": 147,
   "id": "52120cad",
   "metadata": {},
   "outputs": [
    {
     "data": {
      "text/plain": [
       "12"
      ]
     },
     "execution_count": 147,
     "metadata": {},
     "output_type": "execute_result"
    }
   ],
   "source": [
    "list3[1]"
   ]
  },
  {
   "cell_type": "code",
   "execution_count": 148,
   "id": "fed24662",
   "metadata": {},
   "outputs": [
    {
     "data": {
      "text/plain": [
       "13"
      ]
     },
     "execution_count": 148,
     "metadata": {},
     "output_type": "execute_result"
    }
   ],
   "source": [
    "list3[2]"
   ]
  },
  {
   "cell_type": "code",
   "execution_count": 149,
   "id": "21d78c26",
   "metadata": {},
   "outputs": [
    {
     "data": {
      "text/plain": [
       "14"
      ]
     },
     "execution_count": 149,
     "metadata": {},
     "output_type": "execute_result"
    }
   ],
   "source": [
    "list3[3]"
   ]
  },
  {
   "cell_type": "code",
   "execution_count": 150,
   "id": "7b1cc7ad",
   "metadata": {},
   "outputs": [
    {
     "data": {
      "text/plain": [
       "[55, 89.34, 'matrix', 'B', 62, True]"
      ]
     },
     "execution_count": 150,
     "metadata": {},
     "output_type": "execute_result"
    }
   ],
   "source": [
    "list8"
   ]
  },
  {
   "cell_type": "code",
   "execution_count": 151,
   "id": "6bb70a1a",
   "metadata": {},
   "outputs": [
    {
     "data": {
      "text/plain": [
       "'B'"
      ]
     },
     "execution_count": 151,
     "metadata": {},
     "output_type": "execute_result"
    }
   ],
   "source": [
    "list8[3]"
   ]
  },
  {
   "cell_type": "code",
   "execution_count": 153,
   "id": "6e40074b",
   "metadata": {},
   "outputs": [
    {
     "data": {
      "text/plain": [
       "'matrix'"
      ]
     },
     "execution_count": 153,
     "metadata": {},
     "output_type": "execute_result"
    }
   ],
   "source": [
    "list8[2]"
   ]
  },
  {
   "cell_type": "code",
   "execution_count": 154,
   "id": "f2256e6d",
   "metadata": {},
   "outputs": [
    {
     "data": {
      "text/plain": [
       "True"
      ]
     },
     "execution_count": 154,
     "metadata": {},
     "output_type": "execute_result"
    }
   ],
   "source": [
    "list8[5]"
   ]
  },
  {
   "cell_type": "code",
   "execution_count": 155,
   "id": "03842b60",
   "metadata": {},
   "outputs": [
    {
     "data": {
      "text/plain": [
       "['a', 'b', 'c', 'd']"
      ]
     },
     "execution_count": 155,
     "metadata": {},
     "output_type": "execute_result"
    }
   ],
   "source": [
    "list6"
   ]
  },
  {
   "cell_type": "code",
   "execution_count": 156,
   "id": "b8d59e9e",
   "metadata": {},
   "outputs": [
    {
     "data": {
      "text/plain": [
       "'c'"
      ]
     },
     "execution_count": 156,
     "metadata": {},
     "output_type": "execute_result"
    }
   ],
   "source": [
    "list6[2]"
   ]
  },
  {
   "cell_type": "code",
   "execution_count": 157,
   "id": "a8c8a926",
   "metadata": {},
   "outputs": [
    {
     "data": {
      "text/plain": [
       "['burger', 'pizza', 'momos', 'coke', 'icecream']"
      ]
     },
     "execution_count": 157,
     "metadata": {},
     "output_type": "execute_result"
    }
   ],
   "source": [
    "list7"
   ]
  },
  {
   "cell_type": "code",
   "execution_count": 158,
   "id": "f8fbc9aa",
   "metadata": {},
   "outputs": [
    {
     "data": {
      "text/plain": [
       "'coke'"
      ]
     },
     "execution_count": 158,
     "metadata": {},
     "output_type": "execute_result"
    }
   ],
   "source": [
    "list7[3]"
   ]
  },
  {
   "cell_type": "markdown",
   "id": "87ade21b",
   "metadata": {},
   "source": [
    "SLICING"
   ]
  },
  {
   "cell_type": "markdown",
   "id": "1a259999",
   "metadata": {},
   "source": [
    "listname[startindex:endindex]"
   ]
  },
  {
   "cell_type": "code",
   "execution_count": 159,
   "id": "5ce2874a",
   "metadata": {},
   "outputs": [
    {
     "data": {
      "text/plain": [
       "['a', 'b', 'c', 'd']"
      ]
     },
     "execution_count": 159,
     "metadata": {},
     "output_type": "execute_result"
    }
   ],
   "source": [
    "list6"
   ]
  },
  {
   "cell_type": "code",
   "execution_count": 160,
   "id": "47327fd5",
   "metadata": {},
   "outputs": [
    {
     "data": {
      "text/plain": [
       "['a', 'b']"
      ]
     },
     "execution_count": 160,
     "metadata": {},
     "output_type": "execute_result"
    }
   ],
   "source": [
    "list6[0:2]"
   ]
  },
  {
   "cell_type": "code",
   "execution_count": 161,
   "id": "b02ca400",
   "metadata": {},
   "outputs": [
    {
     "data": {
      "text/plain": [
       "['burger', 'pizza', 'momos', 'coke', 'icecream']"
      ]
     },
     "execution_count": 161,
     "metadata": {},
     "output_type": "execute_result"
    }
   ],
   "source": [
    "list7"
   ]
  },
  {
   "cell_type": "code",
   "execution_count": 163,
   "id": "bb12c3de",
   "metadata": {},
   "outputs": [
    {
     "data": {
      "text/plain": [
       "['pizza', 'momos', 'coke', 'icecream']"
      ]
     },
     "execution_count": 163,
     "metadata": {},
     "output_type": "execute_result"
    }
   ],
   "source": [
    "list7[1:5]"
   ]
  },
  {
   "cell_type": "code",
   "execution_count": 164,
   "id": "017b3ac5",
   "metadata": {},
   "outputs": [
    {
     "data": {
      "text/plain": [
       "[11, 12, 13, 14]"
      ]
     },
     "execution_count": 164,
     "metadata": {},
     "output_type": "execute_result"
    }
   ],
   "source": [
    "list3"
   ]
  },
  {
   "cell_type": "code",
   "execution_count": 165,
   "id": "58737577",
   "metadata": {},
   "outputs": [
    {
     "data": {
      "text/plain": [
       "[11, 12]"
      ]
     },
     "execution_count": 165,
     "metadata": {},
     "output_type": "execute_result"
    }
   ],
   "source": [
    "list3[0:2]"
   ]
  },
  {
   "cell_type": "code",
   "execution_count": 166,
   "id": "36e13d42",
   "metadata": {},
   "outputs": [
    {
     "data": {
      "text/plain": [
       "list"
      ]
     },
     "execution_count": 166,
     "metadata": {},
     "output_type": "execute_result"
    }
   ],
   "source": [
    "type(list3)"
   ]
  },
  {
   "cell_type": "code",
   "execution_count": 167,
   "id": "769b71f2",
   "metadata": {},
   "outputs": [
    {
     "data": {
      "text/plain": [
       "[55, 89.34, 'matrix', 'B', 62, True]"
      ]
     },
     "execution_count": 167,
     "metadata": {},
     "output_type": "execute_result"
    }
   ],
   "source": [
    "list8"
   ]
  },
  {
   "cell_type": "code",
   "execution_count": 168,
   "id": "38325c37",
   "metadata": {},
   "outputs": [
    {
     "data": {
      "text/plain": [
       "['matrix', 'B', 62, True]"
      ]
     },
     "execution_count": 168,
     "metadata": {},
     "output_type": "execute_result"
    }
   ],
   "source": [
    "list8[2:6]"
   ]
  },
  {
   "cell_type": "code",
   "execution_count": 170,
   "id": "7b3f9094",
   "metadata": {},
   "outputs": [
    {
     "data": {
      "text/plain": [
       "[55, 89.34, 'matrix', 'B', 62]"
      ]
     },
     "execution_count": 170,
     "metadata": {},
     "output_type": "execute_result"
    }
   ],
   "source": [
    "list8[0:5]"
   ]
  },
  {
   "cell_type": "code",
   "execution_count": 171,
   "id": "f90a2d63",
   "metadata": {},
   "outputs": [
    {
     "data": {
      "text/plain": [
       "[55, 89.34, 'matrix', 'B', 62, True]"
      ]
     },
     "execution_count": 171,
     "metadata": {},
     "output_type": "execute_result"
    }
   ],
   "source": [
    "list8[:]"
   ]
  },
  {
   "cell_type": "code",
   "execution_count": 172,
   "id": "6258d134",
   "metadata": {},
   "outputs": [
    {
     "data": {
      "text/plain": [
       "[True]"
      ]
     },
     "execution_count": 172,
     "metadata": {},
     "output_type": "execute_result"
    }
   ],
   "source": [
    "list8[5:]"
   ]
  },
  {
   "cell_type": "code",
   "execution_count": 173,
   "id": "6637025d",
   "metadata": {},
   "outputs": [],
   "source": [
    "l3=[12,22,33]"
   ]
  },
  {
   "cell_type": "code",
   "execution_count": 174,
   "id": "c3e24d92",
   "metadata": {},
   "outputs": [
    {
     "data": {
      "text/plain": [
       "[12, 22, 33]"
      ]
     },
     "execution_count": 174,
     "metadata": {},
     "output_type": "execute_result"
    }
   ],
   "source": [
    "l3[0:3]"
   ]
  },
  {
   "cell_type": "code",
   "execution_count": 177,
   "id": "640a0f2b",
   "metadata": {},
   "outputs": [
    {
     "data": {
      "text/plain": [
       "[12, 22, 33]"
      ]
     },
     "execution_count": 177,
     "metadata": {},
     "output_type": "execute_result"
    }
   ],
   "source": [
    "l3[0:9]"
   ]
  },
  {
   "cell_type": "code",
   "execution_count": 178,
   "id": "3730d9da",
   "metadata": {},
   "outputs": [
    {
     "data": {
      "text/plain": [
       "3"
      ]
     },
     "execution_count": 178,
     "metadata": {},
     "output_type": "execute_result"
    }
   ],
   "source": [
    "len(l3)"
   ]
  },
  {
   "cell_type": "code",
   "execution_count": 179,
   "id": "da2c7633",
   "metadata": {},
   "outputs": [
    {
     "data": {
      "text/plain": [
       "list"
      ]
     },
     "execution_count": 179,
     "metadata": {},
     "output_type": "execute_result"
    }
   ],
   "source": [
    "type(l3)"
   ]
  },
  {
   "cell_type": "markdown",
   "id": "341855df",
   "metadata": {},
   "source": [
    "negative indexing"
   ]
  },
  {
   "cell_type": "code",
   "execution_count": 180,
   "id": "4167e1d2",
   "metadata": {},
   "outputs": [
    {
     "data": {
      "text/plain": [
       "[100, 200, 300, 400, 500]"
      ]
     },
     "execution_count": 180,
     "metadata": {},
     "output_type": "execute_result"
    }
   ],
   "source": [
    "list4"
   ]
  },
  {
   "cell_type": "code",
   "execution_count": 182,
   "id": "aa198034",
   "metadata": {},
   "outputs": [
    {
     "data": {
      "text/plain": [
       "500"
      ]
     },
     "execution_count": 182,
     "metadata": {},
     "output_type": "execute_result"
    }
   ],
   "source": [
    "list4[-1]"
   ]
  },
  {
   "cell_type": "code",
   "execution_count": 183,
   "id": "8ae819ed",
   "metadata": {},
   "outputs": [
    {
     "data": {
      "text/plain": [
       "400"
      ]
     },
     "execution_count": 183,
     "metadata": {},
     "output_type": "execute_result"
    }
   ],
   "source": [
    "list4[-2]"
   ]
  },
  {
   "cell_type": "code",
   "execution_count": 184,
   "id": "b19e2931",
   "metadata": {},
   "outputs": [
    {
     "data": {
      "text/plain": [
       "300"
      ]
     },
     "execution_count": 184,
     "metadata": {},
     "output_type": "execute_result"
    }
   ],
   "source": [
    "list4[-3]"
   ]
  },
  {
   "cell_type": "code",
   "execution_count": 185,
   "id": "2bc6852e",
   "metadata": {},
   "outputs": [
    {
     "data": {
      "text/plain": [
       "200"
      ]
     },
     "execution_count": 185,
     "metadata": {},
     "output_type": "execute_result"
    }
   ],
   "source": [
    "list4[-4]"
   ]
  },
  {
   "cell_type": "code",
   "execution_count": 187,
   "id": "6ef1df8b",
   "metadata": {},
   "outputs": [
    {
     "data": {
      "text/plain": [
       "[400]"
      ]
     },
     "execution_count": 187,
     "metadata": {},
     "output_type": "execute_result"
    }
   ],
   "source": [
    "list4[-2:-1]"
   ]
  },
  {
   "cell_type": "code",
   "execution_count": 188,
   "id": "b7d466f9",
   "metadata": {},
   "outputs": [
    {
     "data": {
      "text/plain": [
       "[100, 200, 300]"
      ]
     },
     "execution_count": 188,
     "metadata": {},
     "output_type": "execute_result"
    }
   ],
   "source": [
    "list4[-5:-2]"
   ]
  },
  {
   "cell_type": "code",
   "execution_count": 189,
   "id": "93c43a7b",
   "metadata": {},
   "outputs": [
    {
     "data": {
      "text/plain": [
       "[100, 200, 300, 400, 500]"
      ]
     },
     "execution_count": 189,
     "metadata": {},
     "output_type": "execute_result"
    }
   ],
   "source": [
    "list4"
   ]
  },
  {
   "cell_type": "code",
   "execution_count": 191,
   "id": "dced10c1",
   "metadata": {},
   "outputs": [
    {
     "data": {
      "text/plain": [
       "[100, 200, 300, 400, 500]"
      ]
     },
     "execution_count": 191,
     "metadata": {},
     "output_type": "execute_result"
    }
   ],
   "source": [
    "list4[-5:]"
   ]
  },
  {
   "cell_type": "code",
   "execution_count": 192,
   "id": "4662b87f",
   "metadata": {},
   "outputs": [
    {
     "data": {
      "text/plain": [
       "[200, 300, 400]"
      ]
     },
     "execution_count": 192,
     "metadata": {},
     "output_type": "execute_result"
    }
   ],
   "source": [
    "list4[-4:-1]"
   ]
  },
  {
   "cell_type": "code",
   "execution_count": 193,
   "id": "0e645c6a",
   "metadata": {},
   "outputs": [
    {
     "data": {
      "text/plain": [
       "['burger', 'pizza', 'momos', 'coke', 'icecream']"
      ]
     },
     "execution_count": 193,
     "metadata": {},
     "output_type": "execute_result"
    }
   ],
   "source": [
    "list7"
   ]
  },
  {
   "cell_type": "code",
   "execution_count": 194,
   "id": "28699d5a",
   "metadata": {},
   "outputs": [
    {
     "data": {
      "text/plain": [
       "['burger', 'pizza', 'momos', 'coke']"
      ]
     },
     "execution_count": 194,
     "metadata": {},
     "output_type": "execute_result"
    }
   ],
   "source": [
    "list7[-5:-1]"
   ]
  },
  {
   "cell_type": "code",
   "execution_count": 195,
   "id": "13e3f38c",
   "metadata": {},
   "outputs": [
    {
     "data": {
      "text/plain": [
       "'momos'"
      ]
     },
     "execution_count": 195,
     "metadata": {},
     "output_type": "execute_result"
    }
   ],
   "source": [
    "list7[-3]"
   ]
  },
  {
   "cell_type": "code",
   "execution_count": 196,
   "id": "1efe432d",
   "metadata": {},
   "outputs": [
    {
     "data": {
      "text/plain": [
       "'coke'"
      ]
     },
     "execution_count": 196,
     "metadata": {},
     "output_type": "execute_result"
    }
   ],
   "source": [
    "list7[3]"
   ]
  },
  {
   "cell_type": "markdown",
   "id": "69b71bfa",
   "metadata": {},
   "source": [
    "# data structures-----LIST"
   ]
  },
  {
   "cell_type": "code",
   "execution_count": 1,
   "id": "3f9ba5e2",
   "metadata": {},
   "outputs": [],
   "source": [
    "numlist=[10,20,30,40]"
   ]
  },
  {
   "cell_type": "code",
   "execution_count": 2,
   "id": "0a9678f2",
   "metadata": {},
   "outputs": [
    {
     "data": {
      "text/plain": [
       "[10, 20, 30, 40]"
      ]
     },
     "execution_count": 2,
     "metadata": {},
     "output_type": "execute_result"
    }
   ],
   "source": [
    "numlist"
   ]
  },
  {
   "cell_type": "code",
   "execution_count": 3,
   "id": "bf85b44e",
   "metadata": {},
   "outputs": [],
   "source": [
    "numlist.append(50)"
   ]
  },
  {
   "cell_type": "code",
   "execution_count": 4,
   "id": "60f52f25",
   "metadata": {},
   "outputs": [
    {
     "data": {
      "text/plain": [
       "[10, 20, 30, 40, 50]"
      ]
     },
     "execution_count": 4,
     "metadata": {},
     "output_type": "execute_result"
    }
   ],
   "source": [
    "numlist"
   ]
  },
  {
   "cell_type": "code",
   "execution_count": 65,
   "id": "8b1b349a",
   "metadata": {},
   "outputs": [],
   "source": [
    "fruitlist=['banana','apple','mango']"
   ]
  },
  {
   "cell_type": "code",
   "execution_count": 66,
   "id": "ae6ef44d",
   "metadata": {},
   "outputs": [
    {
     "data": {
      "text/plain": [
       "['banana', 'apple', 'mango']"
      ]
     },
     "execution_count": 66,
     "metadata": {},
     "output_type": "execute_result"
    }
   ],
   "source": [
    "fruitlist"
   ]
  },
  {
   "cell_type": "code",
   "execution_count": 67,
   "id": "8aa2b1b0",
   "metadata": {},
   "outputs": [],
   "source": [
    "fruitlist.append('papaya')"
   ]
  },
  {
   "cell_type": "code",
   "execution_count": 68,
   "id": "97851320",
   "metadata": {},
   "outputs": [
    {
     "data": {
      "text/plain": [
       "['banana', 'apple', 'mango', 'papaya']"
      ]
     },
     "execution_count": 68,
     "metadata": {},
     "output_type": "execute_result"
    }
   ],
   "source": [
    "fruitlist"
   ]
  },
  {
   "cell_type": "code",
   "execution_count": 69,
   "id": "736bb5c0",
   "metadata": {},
   "outputs": [
    {
     "data": {
      "text/plain": [
       "4"
      ]
     },
     "execution_count": 69,
     "metadata": {},
     "output_type": "execute_result"
    }
   ],
   "source": [
    "len(fruitlist)"
   ]
  },
  {
   "cell_type": "code",
   "execution_count": 70,
   "id": "f4efd5a8",
   "metadata": {},
   "outputs": [],
   "source": [
    "fruitlist.append('guava')"
   ]
  },
  {
   "cell_type": "code",
   "execution_count": 71,
   "id": "7c92db45",
   "metadata": {},
   "outputs": [
    {
     "data": {
      "text/plain": [
       "['banana', 'apple', 'mango', 'papaya', 'guava']"
      ]
     },
     "execution_count": 71,
     "metadata": {},
     "output_type": "execute_result"
    }
   ],
   "source": [
    "fruitlist"
   ]
  },
  {
   "cell_type": "code",
   "execution_count": 72,
   "id": "9c4fac6d",
   "metadata": {},
   "outputs": [
    {
     "data": {
      "text/plain": [
       "5"
      ]
     },
     "execution_count": 72,
     "metadata": {},
     "output_type": "execute_result"
    }
   ],
   "source": [
    "len(fruitlist)"
   ]
  },
  {
   "cell_type": "code",
   "execution_count": 73,
   "id": "01469db4",
   "metadata": {},
   "outputs": [],
   "source": [
    "fruitlist.insert(1,\"kiwi\")"
   ]
  },
  {
   "cell_type": "code",
   "execution_count": 74,
   "id": "7ad8554d",
   "metadata": {},
   "outputs": [
    {
     "data": {
      "text/plain": [
       "['banana', 'kiwi', 'apple', 'mango', 'papaya', 'guava']"
      ]
     },
     "execution_count": 74,
     "metadata": {},
     "output_type": "execute_result"
    }
   ],
   "source": [
    "fruitlist"
   ]
  },
  {
   "cell_type": "code",
   "execution_count": 75,
   "id": "441d4e96",
   "metadata": {},
   "outputs": [],
   "source": [
    "fruitlist.insert(3,\"grapes\")"
   ]
  },
  {
   "cell_type": "code",
   "execution_count": 76,
   "id": "6805b270",
   "metadata": {},
   "outputs": [
    {
     "data": {
      "text/plain": [
       "['banana', 'kiwi', 'apple', 'grapes', 'mango', 'papaya', 'guava']"
      ]
     },
     "execution_count": 76,
     "metadata": {},
     "output_type": "execute_result"
    }
   ],
   "source": [
    "fruitlist"
   ]
  },
  {
   "cell_type": "code",
   "execution_count": 77,
   "id": "d4e34129",
   "metadata": {},
   "outputs": [],
   "source": [
    "fruitlist.sort()"
   ]
  },
  {
   "cell_type": "code",
   "execution_count": 78,
   "id": "abf29da3",
   "metadata": {},
   "outputs": [
    {
     "data": {
      "text/plain": [
       "['apple', 'banana', 'grapes', 'guava', 'kiwi', 'mango', 'papaya']"
      ]
     },
     "execution_count": 78,
     "metadata": {},
     "output_type": "execute_result"
    }
   ],
   "source": [
    "fruitlist"
   ]
  },
  {
   "cell_type": "code",
   "execution_count": 79,
   "id": "20cedbb7",
   "metadata": {},
   "outputs": [],
   "source": [
    "fruitlist.reverse()"
   ]
  },
  {
   "cell_type": "code",
   "execution_count": 80,
   "id": "62e44e5f",
   "metadata": {},
   "outputs": [
    {
     "data": {
      "text/plain": [
       "['papaya', 'mango', 'kiwi', 'guava', 'grapes', 'banana', 'apple']"
      ]
     },
     "execution_count": 80,
     "metadata": {},
     "output_type": "execute_result"
    }
   ],
   "source": [
    "fruitlist"
   ]
  },
  {
   "cell_type": "code",
   "execution_count": 81,
   "id": "ea353916",
   "metadata": {},
   "outputs": [
    {
     "data": {
      "text/plain": [
       "4"
      ]
     },
     "execution_count": 81,
     "metadata": {},
     "output_type": "execute_result"
    }
   ],
   "source": [
    "fruitlist.index('grapes')"
   ]
  },
  {
   "cell_type": "code",
   "execution_count": 82,
   "id": "85b652d0",
   "metadata": {},
   "outputs": [
    {
     "data": {
      "text/plain": [
       "6"
      ]
     },
     "execution_count": 82,
     "metadata": {},
     "output_type": "execute_result"
    }
   ],
   "source": [
    "fruitlist.index('apple')"
   ]
  },
  {
   "cell_type": "code",
   "execution_count": 83,
   "id": "d02825c7",
   "metadata": {},
   "outputs": [
    {
     "data": {
      "text/plain": [
       "'kiwi'"
      ]
     },
     "execution_count": 83,
     "metadata": {},
     "output_type": "execute_result"
    }
   ],
   "source": [
    "fruitlist[2]"
   ]
  },
  {
   "cell_type": "code",
   "execution_count": 84,
   "id": "d0b223a4",
   "metadata": {},
   "outputs": [],
   "source": [
    "fruitlist[2]=\"pineapple\""
   ]
  },
  {
   "cell_type": "code",
   "execution_count": 85,
   "id": "a136c37b",
   "metadata": {},
   "outputs": [
    {
     "data": {
      "text/plain": [
       "['papaya', 'mango', 'pineapple', 'guava', 'grapes', 'banana', 'apple']"
      ]
     },
     "execution_count": 85,
     "metadata": {},
     "output_type": "execute_result"
    }
   ],
   "source": [
    "fruitlist"
   ]
  },
  {
   "cell_type": "code",
   "execution_count": 86,
   "id": "96c94727",
   "metadata": {},
   "outputs": [
    {
     "data": {
      "text/plain": [
       "[10, 20, 30, 50, 4100]"
      ]
     },
     "execution_count": 86,
     "metadata": {},
     "output_type": "execute_result"
    }
   ],
   "source": [
    "numlist"
   ]
  },
  {
   "cell_type": "code",
   "execution_count": 87,
   "id": "6f744394",
   "metadata": {},
   "outputs": [],
   "source": [
    "numlist[3]=4100"
   ]
  },
  {
   "cell_type": "code",
   "execution_count": 88,
   "id": "cca3dc22",
   "metadata": {},
   "outputs": [
    {
     "data": {
      "text/plain": [
       "[10, 20, 30, 4100, 4100]"
      ]
     },
     "execution_count": 88,
     "metadata": {},
     "output_type": "execute_result"
    }
   ],
   "source": [
    "numlist"
   ]
  },
  {
   "cell_type": "code",
   "execution_count": 89,
   "id": "f496c6e1",
   "metadata": {},
   "outputs": [],
   "source": [
    "numlist.sort()"
   ]
  },
  {
   "cell_type": "code",
   "execution_count": 90,
   "id": "f1d6fb74",
   "metadata": {},
   "outputs": [
    {
     "data": {
      "text/plain": [
       "[10, 20, 30, 4100, 4100]"
      ]
     },
     "execution_count": 90,
     "metadata": {},
     "output_type": "execute_result"
    }
   ],
   "source": [
    "numlist"
   ]
  },
  {
   "cell_type": "code",
   "execution_count": 91,
   "id": "18449e57",
   "metadata": {},
   "outputs": [
    {
     "data": {
      "text/plain": [
       "4100"
      ]
     },
     "execution_count": 91,
     "metadata": {},
     "output_type": "execute_result"
    }
   ],
   "source": [
    "numlist[4]"
   ]
  },
  {
   "cell_type": "code",
   "execution_count": 92,
   "id": "eef14a87",
   "metadata": {},
   "outputs": [],
   "source": [
    "fruitlist.extend(['melon','avacado','orange'])"
   ]
  },
  {
   "cell_type": "code",
   "execution_count": 93,
   "id": "84c5ae00",
   "metadata": {},
   "outputs": [
    {
     "data": {
      "text/plain": [
       "['papaya',\n",
       " 'mango',\n",
       " 'pineapple',\n",
       " 'guava',\n",
       " 'grapes',\n",
       " 'banana',\n",
       " 'apple',\n",
       " 'melon',\n",
       " 'avacado',\n",
       " 'orange']"
      ]
     },
     "execution_count": 93,
     "metadata": {},
     "output_type": "execute_result"
    }
   ],
   "source": [
    "fruitlist"
   ]
  },
  {
   "cell_type": "code",
   "execution_count": 94,
   "id": "ba9c133e",
   "metadata": {},
   "outputs": [
    {
     "data": {
      "text/plain": [
       "10"
      ]
     },
     "execution_count": 94,
     "metadata": {},
     "output_type": "execute_result"
    }
   ],
   "source": [
    "len(fruitlist)"
   ]
  },
  {
   "cell_type": "code",
   "execution_count": 95,
   "id": "2842abf8",
   "metadata": {},
   "outputs": [],
   "source": [
    "fruitlist.reverse()"
   ]
  },
  {
   "cell_type": "code",
   "execution_count": 96,
   "id": "92418ecd",
   "metadata": {},
   "outputs": [
    {
     "data": {
      "text/plain": [
       "['orange',\n",
       " 'avacado',\n",
       " 'melon',\n",
       " 'apple',\n",
       " 'banana',\n",
       " 'grapes',\n",
       " 'guava',\n",
       " 'pineapple',\n",
       " 'mango',\n",
       " 'papaya']"
      ]
     },
     "execution_count": 96,
     "metadata": {},
     "output_type": "execute_result"
    }
   ],
   "source": [
    "fruitlist"
   ]
  },
  {
   "cell_type": "code",
   "execution_count": 97,
   "id": "09421de4",
   "metadata": {},
   "outputs": [],
   "source": [
    "fruitlist.sort()"
   ]
  },
  {
   "cell_type": "code",
   "execution_count": 98,
   "id": "6cb582f8",
   "metadata": {},
   "outputs": [
    {
     "data": {
      "text/plain": [
       "['apple',\n",
       " 'avacado',\n",
       " 'banana',\n",
       " 'grapes',\n",
       " 'guava',\n",
       " 'mango',\n",
       " 'melon',\n",
       " 'orange',\n",
       " 'papaya',\n",
       " 'pineapple']"
      ]
     },
     "execution_count": 98,
     "metadata": {},
     "output_type": "execute_result"
    }
   ],
   "source": [
    "fruitlist"
   ]
  },
  {
   "cell_type": "code",
   "execution_count": 99,
   "id": "9923c10a",
   "metadata": {},
   "outputs": [],
   "source": [
    "fruitlist.extend(['pomegranate','muskmelon'])"
   ]
  },
  {
   "cell_type": "code",
   "execution_count": 100,
   "id": "28248639",
   "metadata": {},
   "outputs": [
    {
     "data": {
      "text/plain": [
       "['apple',\n",
       " 'avacado',\n",
       " 'banana',\n",
       " 'grapes',\n",
       " 'guava',\n",
       " 'mango',\n",
       " 'melon',\n",
       " 'orange',\n",
       " 'papaya',\n",
       " 'pineapple',\n",
       " 'pomegranate',\n",
       " 'muskmelon']"
      ]
     },
     "execution_count": 100,
     "metadata": {},
     "output_type": "execute_result"
    }
   ],
   "source": [
    "fruitlist"
   ]
  },
  {
   "cell_type": "code",
   "execution_count": 101,
   "id": "76fed758",
   "metadata": {},
   "outputs": [
    {
     "data": {
      "text/plain": [
       "12"
      ]
     },
     "execution_count": 101,
     "metadata": {},
     "output_type": "execute_result"
    }
   ],
   "source": [
    "len(fruitlist)"
   ]
  },
  {
   "cell_type": "code",
   "execution_count": 102,
   "id": "7f713509",
   "metadata": {},
   "outputs": [
    {
     "data": {
      "text/plain": [
       "['apple',\n",
       " 'avacado',\n",
       " 'banana',\n",
       " 'grapes',\n",
       " 'guava',\n",
       " 'mango',\n",
       " 'melon',\n",
       " 'orange',\n",
       " 'papaya',\n",
       " 'pineapple',\n",
       " 'pomegranate',\n",
       " 'muskmelon']"
      ]
     },
     "execution_count": 102,
     "metadata": {},
     "output_type": "execute_result"
    }
   ],
   "source": [
    "fruitlist"
   ]
  },
  {
   "cell_type": "code",
   "execution_count": 103,
   "id": "c3f3e490",
   "metadata": {},
   "outputs": [],
   "source": [
    "fruitlist.sort()"
   ]
  },
  {
   "cell_type": "code",
   "execution_count": 104,
   "id": "07138a36",
   "metadata": {},
   "outputs": [
    {
     "data": {
      "text/plain": [
       "['apple',\n",
       " 'avacado',\n",
       " 'banana',\n",
       " 'grapes',\n",
       " 'guava',\n",
       " 'mango',\n",
       " 'melon',\n",
       " 'muskmelon',\n",
       " 'orange',\n",
       " 'papaya',\n",
       " 'pineapple',\n",
       " 'pomegranate']"
      ]
     },
     "execution_count": 104,
     "metadata": {},
     "output_type": "execute_result"
    }
   ],
   "source": [
    "fruitlist"
   ]
  },
  {
   "cell_type": "code",
   "execution_count": 105,
   "id": "420149cf",
   "metadata": {},
   "outputs": [],
   "source": [
    "fruitlist.reverse()"
   ]
  },
  {
   "cell_type": "code",
   "execution_count": 106,
   "id": "3b4857e4",
   "metadata": {},
   "outputs": [
    {
     "data": {
      "text/plain": [
       "['pomegranate',\n",
       " 'pineapple',\n",
       " 'papaya',\n",
       " 'orange',\n",
       " 'muskmelon',\n",
       " 'melon',\n",
       " 'mango',\n",
       " 'guava',\n",
       " 'grapes',\n",
       " 'banana',\n",
       " 'avacado',\n",
       " 'apple']"
      ]
     },
     "execution_count": 106,
     "metadata": {},
     "output_type": "execute_result"
    }
   ],
   "source": [
    "fruitlist"
   ]
  },
  {
   "cell_type": "code",
   "execution_count": 107,
   "id": "4226ee7c",
   "metadata": {},
   "outputs": [
    {
     "data": {
      "text/plain": [
       "'apple'"
      ]
     },
     "execution_count": 107,
     "metadata": {},
     "output_type": "execute_result"
    }
   ],
   "source": [
    "fruitlist.pop()"
   ]
  },
  {
   "cell_type": "code",
   "execution_count": 108,
   "id": "b41e3f2a",
   "metadata": {},
   "outputs": [
    {
     "data": {
      "text/plain": [
       "['pomegranate',\n",
       " 'pineapple',\n",
       " 'papaya',\n",
       " 'orange',\n",
       " 'muskmelon',\n",
       " 'melon',\n",
       " 'mango',\n",
       " 'guava',\n",
       " 'grapes',\n",
       " 'banana',\n",
       " 'avacado']"
      ]
     },
     "execution_count": 108,
     "metadata": {},
     "output_type": "execute_result"
    }
   ],
   "source": [
    "fruitlist"
   ]
  },
  {
   "cell_type": "code",
   "execution_count": 109,
   "id": "fdefb0b7",
   "metadata": {},
   "outputs": [
    {
     "data": {
      "text/plain": [
       "'papaya'"
      ]
     },
     "execution_count": 109,
     "metadata": {},
     "output_type": "execute_result"
    }
   ],
   "source": [
    "fruitlist.pop(2)"
   ]
  },
  {
   "cell_type": "code",
   "execution_count": 110,
   "id": "d43c1072",
   "metadata": {},
   "outputs": [
    {
     "data": {
      "text/plain": [
       "['pomegranate',\n",
       " 'pineapple',\n",
       " 'orange',\n",
       " 'muskmelon',\n",
       " 'melon',\n",
       " 'mango',\n",
       " 'guava',\n",
       " 'grapes',\n",
       " 'banana',\n",
       " 'avacado']"
      ]
     },
     "execution_count": 110,
     "metadata": {},
     "output_type": "execute_result"
    }
   ],
   "source": [
    "fruitlist"
   ]
  },
  {
   "cell_type": "code",
   "execution_count": 111,
   "id": "0d144e2a",
   "metadata": {},
   "outputs": [
    {
     "data": {
      "text/plain": [
       "10"
      ]
     },
     "execution_count": 111,
     "metadata": {},
     "output_type": "execute_result"
    }
   ],
   "source": [
    "len(fruitlist)"
   ]
  },
  {
   "cell_type": "code",
   "execution_count": 112,
   "id": "cceafe5c",
   "metadata": {},
   "outputs": [],
   "source": [
    "fruitlist.remove('mango')"
   ]
  },
  {
   "cell_type": "code",
   "execution_count": 113,
   "id": "fce7c56f",
   "metadata": {},
   "outputs": [
    {
     "data": {
      "text/plain": [
       "['pomegranate',\n",
       " 'pineapple',\n",
       " 'orange',\n",
       " 'muskmelon',\n",
       " 'melon',\n",
       " 'guava',\n",
       " 'grapes',\n",
       " 'banana',\n",
       " 'avacado']"
      ]
     },
     "execution_count": 113,
     "metadata": {},
     "output_type": "execute_result"
    }
   ],
   "source": [
    "fruitlist"
   ]
  },
  {
   "cell_type": "code",
   "execution_count": 114,
   "id": "0a3c0f44",
   "metadata": {},
   "outputs": [
    {
     "data": {
      "text/plain": [
       "9"
      ]
     },
     "execution_count": 114,
     "metadata": {},
     "output_type": "execute_result"
    }
   ],
   "source": [
    "len(fruitlist)"
   ]
  },
  {
   "cell_type": "code",
   "execution_count": 115,
   "id": "30e64530",
   "metadata": {},
   "outputs": [
    {
     "data": {
      "text/plain": [
       "list"
      ]
     },
     "execution_count": 115,
     "metadata": {},
     "output_type": "execute_result"
    }
   ],
   "source": [
    "type(fruitlist)"
   ]
  },
  {
   "cell_type": "code",
   "execution_count": 124,
   "id": "972f74a6",
   "metadata": {},
   "outputs": [
    {
     "ename": "NameError",
     "evalue": "name 'newfruitlist' is not defined",
     "output_type": "error",
     "traceback": [
      "\u001b[1;31m---------------------------------------------------------------------------\u001b[0m",
      "\u001b[1;31mNameError\u001b[0m                                 Traceback (most recent call last)",
      "Input \u001b[1;32mIn [124]\u001b[0m, in \u001b[0;36m<cell line: 1>\u001b[1;34m()\u001b[0m\n\u001b[1;32m----> 1\u001b[0m fruitlist\u001b[38;5;241m=\u001b[39m\u001b[43mnewfruitlist\u001b[49m\n",
      "\u001b[1;31mNameError\u001b[0m: name 'newfruitlist' is not defined"
     ]
    }
   ],
   "source": [
    "fruitlist=newfruitlist"
   ]
  },
  {
   "cell_type": "code",
   "execution_count": 116,
   "id": "1357ae6d",
   "metadata": {},
   "outputs": [],
   "source": [
    "fruitlist.clear()"
   ]
  },
  {
   "cell_type": "code",
   "execution_count": 117,
   "id": "9d6fb9e0",
   "metadata": {},
   "outputs": [
    {
     "data": {
      "text/plain": [
       "[]"
      ]
     },
     "execution_count": 117,
     "metadata": {},
     "output_type": "execute_result"
    }
   ],
   "source": [
    "fruitlist"
   ]
  },
  {
   "cell_type": "code",
   "execution_count": 118,
   "id": "4d966aae",
   "metadata": {},
   "outputs": [
    {
     "data": {
      "text/plain": [
       "0"
      ]
     },
     "execution_count": 118,
     "metadata": {},
     "output_type": "execute_result"
    }
   ],
   "source": [
    "len(fruitlist)"
   ]
  },
  {
   "cell_type": "code",
   "execution_count": 119,
   "id": "1896057c",
   "metadata": {},
   "outputs": [],
   "source": [
    "fruitlist.append('kiwi')"
   ]
  },
  {
   "cell_type": "code",
   "execution_count": 120,
   "id": "ca945eb6",
   "metadata": {},
   "outputs": [
    {
     "data": {
      "text/plain": [
       "['kiwi']"
      ]
     },
     "execution_count": 120,
     "metadata": {},
     "output_type": "execute_result"
    }
   ],
   "source": [
    "fruitlist"
   ]
  },
  {
   "cell_type": "code",
   "execution_count": 122,
   "id": "7cb0c8c8",
   "metadata": {},
   "outputs": [
    {
     "ename": "NameError",
     "evalue": "name 'fruitlist' is not defined",
     "output_type": "error",
     "traceback": [
      "\u001b[1;31m---------------------------------------------------------------------------\u001b[0m",
      "\u001b[1;31mNameError\u001b[0m                                 Traceback (most recent call last)",
      "Input \u001b[1;32mIn [122]\u001b[0m, in \u001b[0;36m<cell line: 1>\u001b[1;34m()\u001b[0m\n\u001b[1;32m----> 1\u001b[0m \u001b[43mfruitlist\u001b[49m\n",
      "\u001b[1;31mNameError\u001b[0m: name 'fruitlist' is not defined"
     ]
    }
   ],
   "source": [
    "fruitlist"
   ]
  },
  {
   "cell_type": "markdown",
   "id": "0f716ea8",
   "metadata": {},
   "source": [
    "# DICTIONARY"
   ]
  },
  {
   "cell_type": "markdown",
   "id": "7a55869b",
   "metadata": {},
   "source": [
    "KEY VALUE PAIR"
   ]
  },
  {
   "cell_type": "markdown",
   "id": "98e62500",
   "metadata": {},
   "source": [
    "d1={key1:value1,key2:value2,key3:value3}"
   ]
  },
  {
   "cell_type": "code",
   "execution_count": 170,
   "id": "b5abc309",
   "metadata": {},
   "outputs": [],
   "source": [
    "d1={'id':1,'name':'abhishek', 'age':25}"
   ]
  },
  {
   "cell_type": "code",
   "execution_count": 171,
   "id": "b24b86b2",
   "metadata": {},
   "outputs": [
    {
     "data": {
      "text/plain": [
       "{'id': 1, 'name': 'abhishek', 'age': 25}"
      ]
     },
     "execution_count": 171,
     "metadata": {},
     "output_type": "execute_result"
    }
   ],
   "source": [
    "d1"
   ]
  },
  {
   "cell_type": "code",
   "execution_count": 172,
   "id": "b5ed050b",
   "metadata": {},
   "outputs": [
    {
     "data": {
      "text/plain": [
       "dict_keys(['id', 'name', 'age'])"
      ]
     },
     "execution_count": 172,
     "metadata": {},
     "output_type": "execute_result"
    }
   ],
   "source": [
    "d1.keys()"
   ]
  },
  {
   "cell_type": "code",
   "execution_count": 173,
   "id": "3a3fc3da",
   "metadata": {},
   "outputs": [
    {
     "data": {
      "text/plain": [
       "dict_values([1, 'abhishek', 25])"
      ]
     },
     "execution_count": 173,
     "metadata": {},
     "output_type": "execute_result"
    }
   ],
   "source": [
    "d1.values()"
   ]
  },
  {
   "cell_type": "code",
   "execution_count": 174,
   "id": "1091a3e4",
   "metadata": {},
   "outputs": [
    {
     "data": {
      "text/plain": [
       "dict_items([('id', 1), ('name', 'abhishek'), ('age', 25)])"
      ]
     },
     "execution_count": 174,
     "metadata": {},
     "output_type": "execute_result"
    }
   ],
   "source": [
    "d1.items()"
   ]
  },
  {
   "cell_type": "code",
   "execution_count": 175,
   "id": "f8ad6435",
   "metadata": {},
   "outputs": [
    {
     "data": {
      "text/plain": [
       "'abhishek'"
      ]
     },
     "execution_count": 175,
     "metadata": {},
     "output_type": "execute_result"
    }
   ],
   "source": [
    "d1['name']"
   ]
  },
  {
   "cell_type": "code",
   "execution_count": 176,
   "id": "61b7f1fa",
   "metadata": {},
   "outputs": [
    {
     "data": {
      "text/plain": [
       "1"
      ]
     },
     "execution_count": 176,
     "metadata": {},
     "output_type": "execute_result"
    }
   ],
   "source": [
    "d1['id']"
   ]
  },
  {
   "cell_type": "code",
   "execution_count": 177,
   "id": "90a14426",
   "metadata": {},
   "outputs": [
    {
     "name": "stdout",
     "output_type": "stream",
     "text": [
      "the name is abhishek\n"
     ]
    }
   ],
   "source": [
    "print('the name is',d1['name'])"
   ]
  },
  {
   "cell_type": "code",
   "execution_count": 178,
   "id": "b3bb69b1",
   "metadata": {},
   "outputs": [
    {
     "name": "stdout",
     "output_type": "stream",
     "text": [
      "the age is 25\n"
     ]
    }
   ],
   "source": [
    "print('the age is',d1['age'])"
   ]
  },
  {
   "cell_type": "code",
   "execution_count": 179,
   "id": "13fb0f32",
   "metadata": {},
   "outputs": [],
   "source": [
    "d1['age']=24"
   ]
  },
  {
   "cell_type": "code",
   "execution_count": 180,
   "id": "7aa73f17",
   "metadata": {},
   "outputs": [
    {
     "data": {
      "text/plain": [
       "{'id': 1, 'name': 'abhishek', 'age': 24}"
      ]
     },
     "execution_count": 180,
     "metadata": {},
     "output_type": "execute_result"
    }
   ],
   "source": [
    "d1"
   ]
  },
  {
   "cell_type": "code",
   "execution_count": 181,
   "id": "87266a18",
   "metadata": {},
   "outputs": [],
   "source": [
    "d1['name']='chintu'"
   ]
  },
  {
   "cell_type": "code",
   "execution_count": 182,
   "id": "005c71f7",
   "metadata": {},
   "outputs": [
    {
     "data": {
      "text/plain": [
       "{'id': 1, 'name': 'chintu', 'age': 24}"
      ]
     },
     "execution_count": 182,
     "metadata": {},
     "output_type": "execute_result"
    }
   ],
   "source": [
    "d1"
   ]
  },
  {
   "cell_type": "code",
   "execution_count": 183,
   "id": "17cbd7cc",
   "metadata": {},
   "outputs": [],
   "source": [
    "d1['id']=12"
   ]
  },
  {
   "cell_type": "code",
   "execution_count": 184,
   "id": "a1c1e727",
   "metadata": {},
   "outputs": [
    {
     "data": {
      "text/plain": [
       "{'id': 12, 'name': 'chintu', 'age': 24}"
      ]
     },
     "execution_count": 184,
     "metadata": {},
     "output_type": "execute_result"
    }
   ],
   "source": [
    "d1"
   ]
  },
  {
   "cell_type": "code",
   "execution_count": 185,
   "id": "f873c5d2",
   "metadata": {},
   "outputs": [],
   "source": [
    "d1.update({'fees':5000})"
   ]
  },
  {
   "cell_type": "code",
   "execution_count": 186,
   "id": "f84dce7f",
   "metadata": {},
   "outputs": [
    {
     "data": {
      "text/plain": [
       "{'id': 12, 'name': 'chintu', 'age': 24, 'fees': 5000}"
      ]
     },
     "execution_count": 186,
     "metadata": {},
     "output_type": "execute_result"
    }
   ],
   "source": [
    "d1"
   ]
  },
  {
   "cell_type": "code",
   "execution_count": 187,
   "id": "c69078d4",
   "metadata": {},
   "outputs": [],
   "source": [
    "del d1['age']"
   ]
  },
  {
   "cell_type": "code",
   "execution_count": 188,
   "id": "65832d8d",
   "metadata": {},
   "outputs": [
    {
     "data": {
      "text/plain": [
       "{'id': 12, 'name': 'chintu', 'fees': 5000}"
      ]
     },
     "execution_count": 188,
     "metadata": {},
     "output_type": "execute_result"
    }
   ],
   "source": [
    "d1"
   ]
  },
  {
   "cell_type": "code",
   "execution_count": 189,
   "id": "d494b024",
   "metadata": {},
   "outputs": [],
   "source": [
    "del d1['name']"
   ]
  },
  {
   "cell_type": "code",
   "execution_count": 190,
   "id": "ffa4c020",
   "metadata": {},
   "outputs": [
    {
     "data": {
      "text/plain": [
       "{'id': 12, 'fees': 5000}"
      ]
     },
     "execution_count": 190,
     "metadata": {},
     "output_type": "execute_result"
    }
   ],
   "source": [
    "d1"
   ]
  },
  {
   "cell_type": "code",
   "execution_count": 191,
   "id": "c3b197a7",
   "metadata": {},
   "outputs": [],
   "source": [
    "d1.clear()"
   ]
  },
  {
   "cell_type": "code",
   "execution_count": 192,
   "id": "f3a1f84c",
   "metadata": {},
   "outputs": [
    {
     "data": {
      "text/plain": [
       "{}"
      ]
     },
     "execution_count": 192,
     "metadata": {},
     "output_type": "execute_result"
    }
   ],
   "source": [
    "d1"
   ]
  },
  {
   "cell_type": "code",
   "execution_count": null,
   "id": "e0987785",
   "metadata": {},
   "outputs": [],
   "source": []
  },
  {
   "cell_type": "code",
   "execution_count": 193,
   "id": "7ce5ba58",
   "metadata": {},
   "outputs": [],
   "source": [
    "d1.update({'roll no':101})"
   ]
  },
  {
   "cell_type": "code",
   "execution_count": 168,
   "id": "2c04f7eb",
   "metadata": {},
   "outputs": [],
   "source": [
    "del d1"
   ]
  },
  {
   "cell_type": "code",
   "execution_count": 194,
   "id": "47631fc3",
   "metadata": {},
   "outputs": [],
   "source": [
    "d2={'apple':'red','tree':'brown','brinjal':'purple'}"
   ]
  },
  {
   "cell_type": "code",
   "execution_count": 195,
   "id": "412b6908",
   "metadata": {},
   "outputs": [
    {
     "data": {
      "text/plain": [
       "{'apple': 'red', 'tree': 'brown', 'brinjal': 'purple'}"
      ]
     },
     "execution_count": 195,
     "metadata": {},
     "output_type": "execute_result"
    }
   ],
   "source": [
    "d2"
   ]
  },
  {
   "cell_type": "code",
   "execution_count": 196,
   "id": "de3bebf6",
   "metadata": {},
   "outputs": [
    {
     "data": {
      "text/plain": [
       "dict_keys(['apple', 'tree', 'brinjal'])"
      ]
     },
     "execution_count": 196,
     "metadata": {},
     "output_type": "execute_result"
    }
   ],
   "source": [
    "d2.keys()"
   ]
  },
  {
   "cell_type": "code",
   "execution_count": 197,
   "id": "fa2a0ec5",
   "metadata": {},
   "outputs": [
    {
     "data": {
      "text/plain": [
       "dict_values(['red', 'brown', 'purple'])"
      ]
     },
     "execution_count": 197,
     "metadata": {},
     "output_type": "execute_result"
    }
   ],
   "source": [
    "d2.values()"
   ]
  },
  {
   "cell_type": "code",
   "execution_count": 198,
   "id": "78805c0b",
   "metadata": {},
   "outputs": [
    {
     "data": {
      "text/plain": [
       "dict_items([('apple', 'red'), ('tree', 'brown'), ('brinjal', 'purple')])"
      ]
     },
     "execution_count": 198,
     "metadata": {},
     "output_type": "execute_result"
    }
   ],
   "source": [
    "d2.items()"
   ]
  },
  {
   "cell_type": "code",
   "execution_count": 199,
   "id": "de27e508",
   "metadata": {},
   "outputs": [],
   "source": [
    "d2.update({'mango':'yellow'})"
   ]
  },
  {
   "cell_type": "code",
   "execution_count": 200,
   "id": "03545dc1",
   "metadata": {},
   "outputs": [
    {
     "data": {
      "text/plain": [
       "{'apple': 'red', 'tree': 'brown', 'brinjal': 'purple', 'mango': 'yellow'}"
      ]
     },
     "execution_count": 200,
     "metadata": {},
     "output_type": "execute_result"
    }
   ],
   "source": [
    "d2"
   ]
  },
  {
   "cell_type": "code",
   "execution_count": 201,
   "id": "b49f9e40",
   "metadata": {},
   "outputs": [
    {
     "data": {
      "text/plain": [
       "'red'"
      ]
     },
     "execution_count": 201,
     "metadata": {},
     "output_type": "execute_result"
    }
   ],
   "source": [
    "d2['apple']"
   ]
  },
  {
   "cell_type": "code",
   "execution_count": 202,
   "id": "69bb5836",
   "metadata": {},
   "outputs": [],
   "source": [
    "d2['apple']='red yellow'"
   ]
  },
  {
   "cell_type": "code",
   "execution_count": 203,
   "id": "16672461",
   "metadata": {},
   "outputs": [
    {
     "data": {
      "text/plain": [
       "{'apple': 'red yellow',\n",
       " 'tree': 'brown',\n",
       " 'brinjal': 'purple',\n",
       " 'mango': 'yellow'}"
      ]
     },
     "execution_count": 203,
     "metadata": {},
     "output_type": "execute_result"
    }
   ],
   "source": [
    "d2"
   ]
  },
  {
   "cell_type": "code",
   "execution_count": 204,
   "id": "708be8db",
   "metadata": {},
   "outputs": [],
   "source": [
    "del d2['mango']"
   ]
  },
  {
   "cell_type": "code",
   "execution_count": 205,
   "id": "261cff93",
   "metadata": {},
   "outputs": [
    {
     "data": {
      "text/plain": [
       "{'apple': 'red yellow', 'tree': 'brown', 'brinjal': 'purple'}"
      ]
     },
     "execution_count": 205,
     "metadata": {},
     "output_type": "execute_result"
    }
   ],
   "source": [
    "d2"
   ]
  },
  {
   "cell_type": "code",
   "execution_count": 206,
   "id": "c67642c2",
   "metadata": {},
   "outputs": [],
   "source": [
    "d2.clear()"
   ]
  },
  {
   "cell_type": "code",
   "execution_count": 207,
   "id": "21b3c115",
   "metadata": {},
   "outputs": [
    {
     "data": {
      "text/plain": [
       "{}"
      ]
     },
     "execution_count": 207,
     "metadata": {},
     "output_type": "execute_result"
    }
   ],
   "source": [
    "d2"
   ]
  },
  {
   "cell_type": "code",
   "execution_count": 208,
   "id": "6792051d",
   "metadata": {},
   "outputs": [],
   "source": [
    "d3={1:['red','yellow','green'],2:['apple','mango','grapes'],3:['rose','sunflower','lily']}"
   ]
  },
  {
   "cell_type": "code",
   "execution_count": 209,
   "id": "d7400869",
   "metadata": {},
   "outputs": [
    {
     "data": {
      "text/plain": [
       "{1: ['red', 'yellow', 'green'],\n",
       " 2: ['apple', 'mango', 'grapes'],\n",
       " 3: ['rose', 'sunflower', 'lily']}"
      ]
     },
     "execution_count": 209,
     "metadata": {},
     "output_type": "execute_result"
    }
   ],
   "source": [
    "d3"
   ]
  },
  {
   "cell_type": "code",
   "execution_count": 210,
   "id": "c3661da1",
   "metadata": {},
   "outputs": [
    {
     "data": {
      "text/plain": [
       "['red', 'yellow', 'green']"
      ]
     },
     "execution_count": 210,
     "metadata": {},
     "output_type": "execute_result"
    }
   ],
   "source": [
    "d3[1]"
   ]
  },
  {
   "cell_type": "code",
   "execution_count": 211,
   "id": "0c69b236",
   "metadata": {},
   "outputs": [
    {
     "data": {
      "text/plain": [
       "['apple', 'mango', 'grapes']"
      ]
     },
     "execution_count": 211,
     "metadata": {},
     "output_type": "execute_result"
    }
   ],
   "source": [
    "d3[2]"
   ]
  },
  {
   "cell_type": "code",
   "execution_count": 212,
   "id": "5ebaf1f9",
   "metadata": {},
   "outputs": [
    {
     "data": {
      "text/plain": [
       "['rose', 'sunflower', 'lily']"
      ]
     },
     "execution_count": 212,
     "metadata": {},
     "output_type": "execute_result"
    }
   ],
   "source": [
    "d3[3]"
   ]
  },
  {
   "cell_type": "code",
   "execution_count": 213,
   "id": "d94ef757",
   "metadata": {},
   "outputs": [
    {
     "data": {
      "text/plain": [
       "'red'"
      ]
     },
     "execution_count": 213,
     "metadata": {},
     "output_type": "execute_result"
    }
   ],
   "source": [
    "d3[1][0]"
   ]
  },
  {
   "cell_type": "code",
   "execution_count": 214,
   "id": "67809666",
   "metadata": {},
   "outputs": [
    {
     "data": {
      "text/plain": [
       "'green'"
      ]
     },
     "execution_count": 214,
     "metadata": {},
     "output_type": "execute_result"
    }
   ],
   "source": [
    "d3[1][2]"
   ]
  },
  {
   "cell_type": "code",
   "execution_count": 215,
   "id": "086f617f",
   "metadata": {},
   "outputs": [
    {
     "data": {
      "text/plain": [
       "'apple'"
      ]
     },
     "execution_count": 215,
     "metadata": {},
     "output_type": "execute_result"
    }
   ],
   "source": [
    "d3[2][0]"
   ]
  },
  {
   "cell_type": "code",
   "execution_count": 216,
   "id": "9e408f7e",
   "metadata": {},
   "outputs": [
    {
     "data": {
      "text/plain": [
       "'lily'"
      ]
     },
     "execution_count": 216,
     "metadata": {},
     "output_type": "execute_result"
    }
   ],
   "source": [
    "d3[3][2]"
   ]
  },
  {
   "cell_type": "code",
   "execution_count": 217,
   "id": "12af1839",
   "metadata": {},
   "outputs": [
    {
     "data": {
      "text/plain": [
       "'yellow'"
      ]
     },
     "execution_count": 217,
     "metadata": {},
     "output_type": "execute_result"
    }
   ],
   "source": [
    "d3[1][1]"
   ]
  },
  {
   "cell_type": "code",
   "execution_count": 218,
   "id": "98bc0cbe",
   "metadata": {},
   "outputs": [
    {
     "data": {
      "text/plain": [
       "'green'"
      ]
     },
     "execution_count": 218,
     "metadata": {},
     "output_type": "execute_result"
    }
   ],
   "source": [
    "d3[1][2]"
   ]
  },
  {
   "cell_type": "code",
   "execution_count": 219,
   "id": "7804649e",
   "metadata": {},
   "outputs": [
    {
     "data": {
      "text/plain": [
       "['apple', 'mango', 'grapes']"
      ]
     },
     "execution_count": 219,
     "metadata": {},
     "output_type": "execute_result"
    }
   ],
   "source": [
    "d3[2]"
   ]
  },
  {
   "cell_type": "code",
   "execution_count": 220,
   "id": "c468512d",
   "metadata": {},
   "outputs": [
    {
     "data": {
      "text/plain": [
       "'apple'"
      ]
     },
     "execution_count": 220,
     "metadata": {},
     "output_type": "execute_result"
    }
   ],
   "source": [
    "d3[2][0]"
   ]
  },
  {
   "cell_type": "code",
   "execution_count": 221,
   "id": "4e49091e",
   "metadata": {},
   "outputs": [],
   "source": [
    "d3[2][2]='pineapple'"
   ]
  },
  {
   "cell_type": "code",
   "execution_count": 222,
   "id": "c61cec18",
   "metadata": {},
   "outputs": [
    {
     "data": {
      "text/plain": [
       "{1: ['red', 'yellow', 'green'],\n",
       " 2: ['apple', 'mango', 'pineapple'],\n",
       " 3: ['rose', 'sunflower', 'lily']}"
      ]
     },
     "execution_count": 222,
     "metadata": {},
     "output_type": "execute_result"
    }
   ],
   "source": [
    "d3"
   ]
  },
  {
   "cell_type": "markdown",
   "id": "b3e7d320",
   "metadata": {},
   "source": [
    "# SETS"
   ]
  },
  {
   "cell_type": "code",
   "execution_count": 223,
   "id": "15707949",
   "metadata": {},
   "outputs": [],
   "source": [
    "x={10,20,30,40,50}"
   ]
  },
  {
   "cell_type": "code",
   "execution_count": 224,
   "id": "308c8fd4",
   "metadata": {},
   "outputs": [
    {
     "data": {
      "text/plain": [
       "{10, 20, 30, 40, 50}"
      ]
     },
     "execution_count": 224,
     "metadata": {},
     "output_type": "execute_result"
    }
   ],
   "source": [
    "x"
   ]
  },
  {
   "cell_type": "code",
   "execution_count": 225,
   "id": "b71a9479",
   "metadata": {},
   "outputs": [],
   "source": [
    "y=set([15,25,35,45,55])"
   ]
  },
  {
   "cell_type": "code",
   "execution_count": 226,
   "id": "9c6d2de8",
   "metadata": {},
   "outputs": [
    {
     "data": {
      "text/plain": [
       "{15, 25, 35, 45, 55}"
      ]
     },
     "execution_count": 226,
     "metadata": {},
     "output_type": "execute_result"
    }
   ],
   "source": [
    "y"
   ]
  },
  {
   "cell_type": "code",
   "execution_count": 228,
   "id": "761d4e32",
   "metadata": {},
   "outputs": [],
   "source": [
    "y.add(65)"
   ]
  },
  {
   "cell_type": "code",
   "execution_count": 229,
   "id": "23ae9a67",
   "metadata": {},
   "outputs": [
    {
     "data": {
      "text/plain": [
       "{15, 25, 35, 45, 55, 65}"
      ]
     },
     "execution_count": 229,
     "metadata": {},
     "output_type": "execute_result"
    }
   ],
   "source": [
    "y"
   ]
  },
  {
   "cell_type": "code",
   "execution_count": 230,
   "id": "eebbf69d",
   "metadata": {},
   "outputs": [],
   "source": [
    "y.add(5)"
   ]
  },
  {
   "cell_type": "code",
   "execution_count": 231,
   "id": "10e5abe1",
   "metadata": {},
   "outputs": [
    {
     "data": {
      "text/plain": [
       "{5, 15, 25, 35, 45, 55, 65}"
      ]
     },
     "execution_count": 231,
     "metadata": {},
     "output_type": "execute_result"
    }
   ],
   "source": [
    "y"
   ]
  },
  {
   "cell_type": "code",
   "execution_count": 232,
   "id": "d3c3c716",
   "metadata": {},
   "outputs": [
    {
     "data": {
      "text/plain": [
       "65"
      ]
     },
     "execution_count": 232,
     "metadata": {},
     "output_type": "execute_result"
    }
   ],
   "source": [
    "y.pop()"
   ]
  },
  {
   "cell_type": "code",
   "execution_count": 233,
   "id": "c55d2fc6",
   "metadata": {},
   "outputs": [
    {
     "data": {
      "text/plain": [
       "{5, 15, 25, 35, 45, 55}"
      ]
     },
     "execution_count": 233,
     "metadata": {},
     "output_type": "execute_result"
    }
   ],
   "source": [
    "y"
   ]
  },
  {
   "cell_type": "code",
   "execution_count": 234,
   "id": "fedee93f",
   "metadata": {},
   "outputs": [
    {
     "data": {
      "text/plain": [
       "35"
      ]
     },
     "execution_count": 234,
     "metadata": {},
     "output_type": "execute_result"
    }
   ],
   "source": [
    "y.pop()"
   ]
  },
  {
   "cell_type": "code",
   "execution_count": 235,
   "id": "6601fe6b",
   "metadata": {},
   "outputs": [
    {
     "data": {
      "text/plain": [
       "{5, 15, 25, 45, 55}"
      ]
     },
     "execution_count": 235,
     "metadata": {},
     "output_type": "execute_result"
    }
   ],
   "source": [
    "y"
   ]
  },
  {
   "cell_type": "code",
   "execution_count": 236,
   "id": "5ef3a50c",
   "metadata": {},
   "outputs": [],
   "source": [
    "y.remove(15)"
   ]
  },
  {
   "cell_type": "code",
   "execution_count": 237,
   "id": "3faba7b6",
   "metadata": {},
   "outputs": [
    {
     "data": {
      "text/plain": [
       "{5, 25, 45, 55}"
      ]
     },
     "execution_count": 237,
     "metadata": {},
     "output_type": "execute_result"
    }
   ],
   "source": [
    "y"
   ]
  },
  {
   "cell_type": "code",
   "execution_count": 239,
   "id": "92305dce",
   "metadata": {},
   "outputs": [],
   "source": [
    "y.add(15)"
   ]
  },
  {
   "cell_type": "code",
   "execution_count": 240,
   "id": "63975a6f",
   "metadata": {},
   "outputs": [
    {
     "data": {
      "text/plain": [
       "{5, 15, 25, 45, 55}"
      ]
     },
     "execution_count": 240,
     "metadata": {},
     "output_type": "execute_result"
    }
   ],
   "source": [
    "y"
   ]
  },
  {
   "cell_type": "code",
   "execution_count": null,
   "id": "7a3a6b6f",
   "metadata": {},
   "outputs": [],
   "source": []
  }
 ],
 "metadata": {
  "kernelspec": {
   "display_name": "Python 3 (ipykernel)",
   "language": "python",
   "name": "python3"
  },
  "language_info": {
   "codemirror_mode": {
    "name": "ipython",
    "version": 3
   },
   "file_extension": ".py",
   "mimetype": "text/x-python",
   "name": "python",
   "nbconvert_exporter": "python",
   "pygments_lexer": "ipython3",
   "version": "3.9.12"
  }
 },
 "nbformat": 4,
 "nbformat_minor": 5
}
